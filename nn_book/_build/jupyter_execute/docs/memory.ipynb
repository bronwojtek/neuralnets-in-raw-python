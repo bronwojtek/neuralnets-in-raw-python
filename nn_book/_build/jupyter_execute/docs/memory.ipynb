{
 "cells": [
  {
   "cell_type": "markdown",
   "metadata": {},
   "source": [
    "# Models of memory"
   ]
  },
  {
   "cell_type": "code",
   "execution_count": 1,
   "metadata": {
    "tags": [
     "remove-cell"
    ]
   },
   "outputs": [],
   "source": [
    "import numpy as np              # numeric\n",
    "import matplotlib.pyplot as plt # plotting\n",
    "\n",
    "# display imported graphics\n",
    "from IPython.display import display, Image"
   ]
  },
  {
   "cell_type": "markdown",
   "metadata": {},
   "source": [
    "(het-lab)=\n",
    "## Heteroassociative memory"
   ]
  },
  {
   "cell_type": "markdown",
   "metadata": {},
   "source": [
    "### Pair associations"
   ]
  },
  {
   "cell_type": "markdown",
   "metadata": {},
   "source": [
    "We now pass to further illustrations of elementary capabilities of ANNs, describing two very simple models of memory based on linear algebra, supplemented with (nonlinear) filtering. Speaking of memory here, a word of caution is in place. We have rather simplistic tools in mind here, which are far from the actual complex and hitherto not comprehended memory mechanism operating in our brain. The present understanding is that these mechanism involve feed-back, which goes beyond the considered feed-forward networks."
   ]
  },
  {
   "cell_type": "markdown",
   "metadata": {},
   "source": [
    "The first considered model concerns the so called **heterassociative** memory, where some objects (here graphic bitmap symbols) are joined in pairs. In particular, we take the set of five graphical symbols, {A, a, I, i, Y}, and define two pair associations: A $\\leftrightarrow$ a and I $\\leftrightarrow$ i, that is between different (hetero) symbols. Y remains unassociated."
   ]
  },
  {
   "cell_type": "markdown",
   "metadata": {},
   "source": [
    "The symbols are defined as 2-dimensional $12 \\times 12$ pixel arrays, for instance"
   ]
  },
  {
   "cell_type": "code",
   "execution_count": 2,
   "metadata": {},
   "outputs": [],
   "source": [
    "    A = np.array([\n",
    "       [0, 0, 0, 0, 0, 0, 0, 0, 0, 0, 0, 0],\n",
    "       [0, 0, 0, 0, 0, 1, 0, 0, 0, 0, 0, 0],\n",
    "       [0, 0, 0, 0, 0, 1, 0, 0, 0, 0, 0, 0],\n",
    "       [0, 0, 0, 0, 1, 1, 1, 0, 0, 0, 0, 0],\n",
    "       [0, 0, 0, 0, 1, 0, 1, 0, 0, 0, 0, 0],\n",
    "       [0, 0, 0, 1, 0, 0, 0, 1, 0, 0, 0, 0],\n",
    "       [0, 0, 0, 1, 0, 0, 0, 1, 0, 0, 0, 0],\n",
    "       [0, 0, 1, 1, 1, 1, 1, 1, 1, 0, 0, 0],     \n",
    "       [0, 0, 1, 0, 0, 0, 0, 0, 1, 0, 0, 0],\n",
    "       [0, 1, 0, 0, 0, 0, 0, 0, 0, 1, 0, 0],  \n",
    "       [0, 1, 0, 0, 0, 0, 0, 0, 0, 1, 0, 0],\n",
    "       [0, 0, 0, 0, 0, 0, 0, 0, 0, 0, 0, 0]]) "
   ]
  },
  {
   "cell_type": "markdown",
   "metadata": {},
   "source": [
    "The remaining symbols are defined smilarly."
   ]
  },
  {
   "cell_type": "code",
   "execution_count": 3,
   "metadata": {
    "tags": [
     "remove-cell"
    ]
   },
   "outputs": [],
   "source": [
    "    \n",
    "a = np.array([[0, 0, 0, 0, 0, 0, 0, 0, 0, 0, 0, 0],\n",
    "       [0, 0, 0, 0, 0, 0, 0, 0, 0, 0, 0, 0],\n",
    "       [0, 0, 0, 0, 0, 0, 0, 0, 0, 0, 0, 0],\n",
    "       [0, 0, 0, 1, 1, 1, 1, 0, 0, 0, 0, 0],\n",
    "       [0, 0, 1, 0, 0, 0, 1, 0, 0, 0, 0, 0],\n",
    "       [0, 0, 1, 0, 0, 0, 1, 0, 0, 0, 0, 0],\n",
    "       [0, 0, 1, 0, 0, 0, 1, 0, 0, 0, 0, 0],\n",
    "       [0, 0, 0, 1, 1, 1, 1, 1, 0, 0, 0, 0],     \n",
    "       [0, 0, 0, 0, 0, 0, 0, 0, 0, 0, 0, 0],\n",
    "       [0, 0, 0, 0, 0, 0, 0, 0, 0, 0, 0, 0],  \n",
    "       [0, 0, 0, 0, 0, 0, 0, 0, 0, 0, 0, 0],\n",
    "       [0, 0, 0, 0, 0, 0, 0, 0, 0, 0, 0, 0]])\n",
    "     \n",
    "ii =  np.array([[0, 0, 0, 0, 0, 0, 0, 0, 0, 0, 0, 0],\n",
    "      [0, 0, 0, 0, 0, 0, 0, 0, 0, 0, 0, 0],\n",
    "      [0, 0, 0, 0, 0, 0, 0, 0, 0, 0, 0, 0],\n",
    "      [0, 0, 0, 0, 0, 0, 1, 0, 0, 0, 0, 0],\n",
    "      [0, 0, 0, 0, 0, 0, 0, 0, 0, 0, 0, 0],\n",
    "      [0, 0, 0, 0, 0, 1, 1, 0, 0, 0, 0, 0],\n",
    "      [0, 0, 0, 0, 0, 0, 1, 0, 0, 0, 0, 0],\n",
    "      [0, 0, 0, 0, 0, 0, 1, 0, 0, 0, 0, 0],     \n",
    "      [0, 0, 0, 0, 0, 0, 1, 0, 0, 0, 0, 0],\n",
    "      [0, 0, 0, 0, 0, 0, 0, 1, 1, 0, 0, 0],  \n",
    "      [0, 0, 0, 0, 0, 0, 0, 0, 0, 0, 0, 0],\n",
    "      [0, 0, 0, 0, 0, 0, 0, 0, 0, 0, 0, 0]])\n",
    "     \n",
    "I = np.array( [[0, 0, 0, 0, 0, 0, 0, 0, 0, 0, 0, 0],\n",
    "      [0, 0, 0, 0, 1, 1, 1, 0, 0, 0, 0, 0],\n",
    "      [0, 0, 0, 0, 0, 1, 0, 0, 0, 0, 0, 0],\n",
    "      [0, 0, 0, 0, 0, 1, 0, 0, 0, 0, 0, 0],\n",
    "      [0, 0, 0, 0, 0, 1, 0, 0, 0, 0, 0, 0],\n",
    "      [0, 0, 0, 0, 0, 1, 0, 0, 0, 0, 0, 0],\n",
    "      [0, 0, 0, 0, 0, 1, 0, 0, 0, 0, 0, 0],\n",
    "      [0, 0, 0, 0, 0, 1, 0, 0, 0, 0, 0, 0],     \n",
    "      [0, 0, 0, 0, 0, 1, 0, 0, 0, 0, 0, 0],\n",
    "      [0, 0, 0, 0, 0, 1, 0, 0, 0, 0, 0, 0],  \n",
    "      [0, 0, 0, 0, 1, 1, 1, 0, 0, 0, 0, 0],\n",
    "      [0, 0, 0, 0, 0, 0, 0, 0, 0, 0, 0, 0]])\n",
    "     \n",
    "Y =  np.array([[0, 1, 0, 0, 0, 0, 0, 0, 0, 0, 0, 0],\n",
    "      [0, 0, 1, 0, 0, 0, 0, 0, 0, 0, 0, 0],\n",
    "      [0, 0, 0, 1, 0, 0, 0, 0, 0, 0, 1, 0],\n",
    "      [0, 0, 0, 0, 0, 0, 0, 0, 0, 1, 0, 0],\n",
    "      [0, 0, 0, 0, 0, 0, 0, 0, 1, 0, 0, 0],\n",
    "      [0, 0, 0, 0, 0, 0, 0, 1, 0, 0, 0, 0],\n",
    "      [0, 0, 0, 0, 0, 0, 1, 0, 0, 0, 0, 0],\n",
    "      [0, 0, 0, 0, 0, 1, 0, 0, 0, 0, 0, 0],     \n",
    "      [0, 0, 0, 0, 0, 1, 0, 0, 0, 0, 0, 0],\n",
    "      [0, 0, 0, 0, 0, 1, 0, 0, 0, 0, 0, 0],  \n",
    "      [0, 0, 0, 0, 1, 1, 1, 1, 1, 1, 0, 0],\n",
    "      [0, 0, 0, 0, 0, 0, 0, 0, 0, 0, 0, 0]])   "
   ]
  },
  {
   "cell_type": "markdown",
   "metadata": {},
   "source": [
    "We use the standard plotting package imported earlier. The whole set of our symbols looks like this, with yellow=1 and violet=0:"
   ]
  },
  {
   "cell_type": "code",
   "execution_count": 4,
   "metadata": {},
   "outputs": [],
   "source": [
    "sym=[A,a,ii,I,Y]   # array of symbols, numbered from 0 to 4"
   ]
  },
  {
   "cell_type": "code",
   "execution_count": 5,
   "metadata": {
    "scrolled": true
   },
   "outputs": [
    {
     "data": {
      "image/png": "[encoded data removed]",
      "text/plain": [
       "<Figure size 1152x432 with 5 Axes>"
      ]
     },
     "metadata": {
      "filenames": {
       "image/png": "/Users/wojciechbroniowski/Dropbox/git/neuralnets-in-raw-python/nn_book/_build/jupyter_execute/docs/memory_12_0.png"
      },
      "needs_background": "light"
     },
     "output_type": "display_data"
    }
   ],
   "source": [
    "plt.figure(figsize=(16, 6)) # figure with horizontal and vertical size\n",
    "\n",
    "for i in range(1,6):     # loop over 5 figure panels, i is from 1 to 5\n",
    "    plt.subplot(1, 5, i) # panels, numbered from 1 to 5\n",
    "    plt.axis('off')      # no axes\n",
    "    plt.imshow(sym[i-1]) # plot symbol, numbered from 0 to 4"
   ]
  },
  {
   "cell_type": "markdown",
   "metadata": {},
   "source": [
    "```{warning}\n",
    "In Python, an integer range$(i,j)$ includes $i$, but does not include $j$, i.e. equals $[i, i+1, \\dots, j-1]$. Also, range$(i)$ includes $0, 1, \\dots, i-1$. This differs from conventions in some other programming languages. \n",
    "```"
   ]
  },
  {
   "cell_type": "markdown",
   "metadata": {},
   "source": [
    "It is more convenient to work not with the above two-dimensional arrays, but with one-dimensional vectors obtained with the so-called **flattening** procedure, where a matrix is cut along its rows into a vector. For example "
   ]
  },
  {
   "cell_type": "code",
   "execution_count": 6,
   "metadata": {
    "scrolled": true
   },
   "outputs": [
    {
     "name": "stdout",
     "output_type": "stream",
     "text": [
      "[[1 2 3]\n",
      " [0 4 0]\n",
      " [3 2 7]]\n",
      "[1 2 3 0 4 0 3 2 7]\n"
     ]
    }
   ],
   "source": [
    "t=np.array([[1,2,3],[0,4,0],[3,2,7]]) # a matrix\n",
    "print(t)                            \n",
    "print(t.flatten())                    # matrix flattened into a vector   "
   ]
  },
  {
   "cell_type": "markdown",
   "metadata": {},
   "source": [
    "We thus perform the flattening on our set,"
   ]
  },
  {
   "cell_type": "code",
   "execution_count": 7,
   "metadata": {},
   "outputs": [],
   "source": [
    "fA=A.flatten()\n",
    "fa=a.flatten()\n",
    "fi=ii.flatten()\n",
    "fI=I.flatten()\n",
    "fY=Y.flatten()"
   ]
  },
  {
   "cell_type": "markdown",
   "metadata": {},
   "source": [
    "to obtain, for instance"
   ]
  },
  {
   "cell_type": "code",
   "execution_count": 8,
   "metadata": {
    "scrolled": true,
    "tags": [
     "remove-input"
    ]
   },
   "outputs": [
    {
     "data": {
      "image/png": "[encoded data removed]",
      "text/plain": [
       "<Figure size 1152x288 with 1 Axes>"
      ]
     },
     "metadata": {
      "filenames": {
       "image/png": "/Users/wojciechbroniowski/Dropbox/git/neuralnets-in-raw-python/nn_book/_build/jupyter_execute/docs/memory_19_0.png"
      },
      "needs_background": "light"
     },
     "output_type": "display_data"
    }
   ],
   "source": [
    "fig = plt.figure(figsize=(16, 4))\n",
    "plt.axis(\"off\")\n",
    "plt.title(\"A after flattening\",fontsize=16)\n",
    "plt.imshow([fA]);"
   ]
  },
  {
   "cell_type": "code",
   "execution_count": 9,
   "metadata": {
    "tags": [
     "remove-input"
    ]
   },
   "outputs": [
    {
     "data": {
      "image/png": "[encoded data removed]",
      "text/plain": [
       "<Figure size 1152x288 with 1 Axes>"
      ]
     },
     "metadata": {
      "filenames": {
       "image/png": "/Users/wojciechbroniowski/Dropbox/git/neuralnets-in-raw-python/nn_book/_build/jupyter_execute/docs/memory_20_0.png"
      },
      "needs_background": "light"
     },
     "output_type": "display_data"
    }
   ],
   "source": [
    "fig = plt.figure(figsize=(16, 4))\n",
    "plt.axis(\"off\")\n",
    "plt.title(\"i after flattening\",fontsize=16)\n",
    "plt.imshow([fi]);"
   ]
  },
  {
   "cell_type": "markdown",
   "metadata": {},
   "source": [
    "The advantage of working with vectors is that we can use the scalar product. Note that here the scalar product between two symbols is just equal to the number of common yellow pixels. For instance, for the flattened symbols plotted above we have only two common yellow pixels:"
   ]
  },
  {
   "cell_type": "code",
   "execution_count": 10,
   "metadata": {},
   "outputs": [
    {
     "data": {
      "text/plain": [
       "2"
      ]
     },
     "execution_count": 10,
     "metadata": {},
     "output_type": "execute_result"
    }
   ],
   "source": [
    "np.dot(fA,fi)"
   ]
  },
  {
   "cell_type": "markdown",
   "metadata": {},
   "source": [
    "It is clear that one can use the scalar product as a measure of similarity between the symbols. For the following method to work, the symbols should not be too similar, as then they could be \"confused\"."
   ]
  },
  {
   "cell_type": "markdown",
   "metadata": {},
   "source": [
    "### Memory matrix"
   ]
  },
  {
   "cell_type": "markdown",
   "metadata": {},
   "source": [
    "The next algebraic concept we need is the **outer product**. For two vectors $v$ and $w$, it is defined as $v w^T = v \\otimes w$ (as opposed to the scalar product, where $w^T v = w \\cdot v$). Here $T$ denotes transposition. The result is a matrix with the number of rows equal to the length of $v$, and the number of columns equal to the length of $w$.\n",
    "\n",
    "For example, with\n",
    "\n",
    "$$ v = \\left ( \\begin{array}{c} v_1 \\\\ v_2 \\\\v_3 \\end{array}  \\right ), \\;\\;\\;\\; w = \\left ( \\begin{array}{c} w_1 \\\\ w_2 \\end{array}  \\right ), $$\n",
    "\n",
    "we have \n",
    "\n",
    "$$ \n",
    "v \\otimes w = v w^T=\n",
    "\\left ( \\begin{array}{c} v_1 \\\\ v_2 \\\\v_3 \\end{array}  \\right ) (w_1,w_2)\n",
    "= \\left ( \\begin{array}{cc} v_1 w_1 & v_1 w_2 \\\\ v_2 w_1 & v_2 w_2 \\\\v_3 v_1 & v_3 w_2 \\end{array}  \\right ).\n",
    "$$\n",
    "\n",
    "(recall from algebra that we multiply \"the columns by the rows\"). In **numpy**"
   ]
  },
  {
   "cell_type": "code",
   "execution_count": 11,
   "metadata": {},
   "outputs": [
    {
     "name": "stdout",
     "output_type": "stream",
     "text": [
      "[[ 2  7]\n",
      " [ 4 14]\n",
      " [ 6 21]]\n"
     ]
    }
   ],
   "source": [
    "print(np.outer([1,2,3],[2,7])) # outer product of two vectors"
   ]
  },
  {
   "cell_type": "markdown",
   "metadata": {},
   "source": [
    "Next, we construct a **memory matrix** needed for modeling the heteroassociative memory. Suppose first, for simplicity of notation, that we only have two associations: $a \\to A$ and $b \\to B$. \n",
    "Let \n",
    "\n",
    "$$M = A a^T/a\\cdot a + B b^T/b\\cdot b.$$ \n",
    "\n",
    "Then \n",
    "\n",
    "$$M a=  A + B \\, a\\cdot b /b \\cdot a, $$ \n",
    "\n",
    "and if $a$ and $b$ were **orthogonal**, i.e. $a \\cdot b =0$, then\n",
    "\n",
    "$ M a =  A$ \n",
    "\n",
    "yielding an exact association. Similarly, we would get $M b = B$. However, since in a general case the vectors are not exactly orthogonal, an error $B \\, b \\cdot a/a \\cdot a$ (for the association of $a$) is generated. It is usually small if the number of pixels in our symbols is large and the symbols are, loosely speaking, not too similar (do not have too many common pixels. As we will see shortly, the emerging error can be efficiently \"filtered out\" with an appropriate neuron activation function.\n",
    "\n",
    "Coming back to our particular case, we thus need four terms in $M$, as \n",
    "$a \\to A$, $A\\to a$, $I \\to i$, and $i \\to I$:"
   ]
  },
  {
   "cell_type": "code",
   "execution_count": 12,
   "metadata": {},
   "outputs": [],
   "source": [
    "M=(np.outer(fA,fa)/np.dot(fa,fa)+np.outer(fa,fA)/np.dot(fA,fA)\n",
    "   +np.outer(fi,fI)/np.dot(fI,fI)+np.outer(fI,fi)/np.dot(fi,fi)); # associated pairs"
   ]
  },
  {
   "cell_type": "markdown",
   "metadata": {},
   "source": [
    "Now, as a test how it works, for each flattened symbol $s$ we evaluate $Ms$. The result is a vector, which we want to bring back to the form of the $12\\times 12$ pixel array. The operation inverse to flattening in Python is **reshape**. For instance "
   ]
  },
  {
   "cell_type": "code",
   "execution_count": 13,
   "metadata": {
    "scrolled": true
   },
   "outputs": [
    {
     "name": "stdout",
     "output_type": "stream",
     "text": [
      "[[1 2]\n",
      " [3 5]]\n"
     ]
    }
   ],
   "source": [
    "tt=np.array([1,2,3,5]) # test vector\n",
    "print(tt.reshape(2,2)) # cutting into 2 rows of length 2"
   ]
  },
  {
   "cell_type": "markdown",
   "metadata": {},
   "source": [
    "For our vectors we have"
   ]
  },
  {
   "cell_type": "code",
   "execution_count": 14,
   "metadata": {},
   "outputs": [],
   "source": [
    "Ap=np.dot(M,fA).reshape(12,12)\n",
    "ap=np.dot(M,fa).reshape(12,12)\n",
    "Ip=np.dot(M,fI).reshape(12,12)\n",
    "ip=np.dot(M,fi).reshape(12,12)\n",
    "Yp=np.dot(M,fY).reshape(12,12) # we also try the unassociated symbol Y\n",
    "\n",
    "symp=[Ap,ap,Ip,ip,Yp]          # array of associated symbols"
   ]
  },
  {
   "cell_type": "markdown",
   "metadata": {},
   "source": [
    "For the case of association to A (which should be a), the procedure yields (we use rounding to 2 decimal digits with **np.round**)"
   ]
  },
  {
   "cell_type": "code",
   "execution_count": 15,
   "metadata": {},
   "outputs": [
    {
     "name": "stdout",
     "output_type": "stream",
     "text": [
      "[[0.   0.   0.   0.   0.   0.   0.   0.   0.   0.   0.   0.  ]\n",
      " [0.   0.   0.   0.   0.25 0.85 0.25 0.   0.   0.   0.   0.  ]\n",
      " [0.   0.   0.   0.   0.   0.85 0.   0.   0.   0.   0.   0.  ]\n",
      " [0.   0.   0.   1.   1.6  1.85 1.89 0.   0.   0.   0.   0.  ]\n",
      " [0.   0.   1.   0.   0.6  0.25 1.6  0.   0.   0.   0.   0.  ]\n",
      " [0.   0.   1.   0.6  0.   0.54 1.29 0.6  0.   0.   0.   0.  ]\n",
      " [0.   0.   1.   0.6  0.   0.25 1.29 0.6  0.   0.   0.   0.  ]\n",
      " [0.   0.   0.6  1.6  1.6  1.85 1.89 1.6  0.6  0.   0.   0.  ]\n",
      " [0.   0.   0.6  0.   0.   0.25 0.29 0.   0.6  0.   0.   0.  ]\n",
      " [0.   0.6  0.   0.   0.   0.25 0.   0.29 0.29 0.6  0.   0.  ]\n",
      " [0.   0.6  0.   0.   0.25 0.25 0.25 0.   0.   0.6  0.   0.  ]\n",
      " [0.   0.   0.   0.   0.   0.   0.   0.   0.   0.   0.   0.  ]]\n"
     ]
    }
   ],
   "source": [
    "print(np.round(Ap,2)) # pixel map for the association of the symbol A"
   ]
  },
  {
   "cell_type": "markdown",
   "metadata": {},
   "source": [
    "We note that the strength of pixels is now not necessarily equal to 0 or 1, as it was in the original symbols. The graphic representation looks as follows:"
   ]
  },
  {
   "cell_type": "code",
   "execution_count": 16,
   "metadata": {
    "tags": [
     "remove-input"
    ]
   },
   "outputs": [
    {
     "data": {
      "image/png": "[encoded data removed]",
      "text/plain": [
       "<Figure size 1152x432 with 5 Axes>"
      ]
     },
     "metadata": {
      "filenames": {
       "image/png": "/Users/wojciechbroniowski/Dropbox/git/neuralnets-in-raw-python/nn_book/_build/jupyter_execute/docs/memory_36_0.png"
      },
      "needs_background": "light"
     },
     "output_type": "display_data"
    }
   ],
   "source": [
    "plt.figure(figsize=(16, 6)) # figure with horizontal and vertical size\n",
    "\n",
    "for i in range(1,6):      # loop over 5 figure panels, i is from 1 to 5\n",
    "    plt.subplot(1, 5, i)  # panels, numbered from 1 to 5\n",
    "    plt.axis('off')       # no axes\n",
    "    plt.imshow(symp[i-1]) # plot symbol, numbered from 0 to 4"
   ]
  },
  {
   "cell_type": "markdown",
   "metadata": {},
   "source": [
    "We should be able to see in the above picture the sequence a, A, i, I, and nothing particular in the association of Y. We almost do, but the situation is not perfect due to the nonorthogonality error discussed above. "
   ]
  },
  {
   "cell_type": "markdown",
   "metadata": {},
   "source": [
    "### Applying a filter"
   ]
  },
  {
   "cell_type": "markdown",
   "metadata": {},
   "source": [
    "The result improves greatly when a filter is applied to the above pixel maps. Looking at the above print out or the plot of Ap (the symbol associated to A which should be a), we note that we should get rid of the \"faint shadows\", and leave only the pixels of sufficient strength, which should then acquire the value 1. In other words, pixels below a bias (threshold) $b$ should be reset to 0, and those above or equal to $b$ should be reset to 1. This can be neatly accomplished with our **neuron** function from Sec. {ref}`mcp_P-lab`. This function has been placed in the library **neural** (see [Appendix](app-lab)), which we now read in:"
   ]
  },
  {
   "cell_type": "code",
   "execution_count": 17,
   "metadata": {
    "tags": [
     "remove-output"
    ]
   },
   "outputs": [
    {
     "name": "stdout",
     "output_type": "stream",
     "text": [
      "Invoking __init__.py for neural\n"
     ]
    }
   ],
   "source": [
    "import sys # system library\n",
    "sys.path.append('./lib_nn') # my path (linux, Mac OS)\n",
    "\n",
    "from neural import * # import my library packages"
   ]
  },
  {
   "cell_type": "markdown",
   "metadata": {},
   "source": [
    "We thus define the filter as an MCP neuron with weights $w_0=-b$ and $w_1=1$:"
   ]
  },
  {
   "cell_type": "code",
   "execution_count": 18,
   "metadata": {},
   "outputs": [],
   "source": [
    "def filter(a,b): # a - symbol (2-dim pixel array), b - bias\n",
    "    n=len(a)     # number of rows (and columns)\n",
    "    return np.array([[func.neuron([a[i,j]],[-b,1]) for j in range(n)] for i in range(n)])\n",
    "       # 2-dim array with the filter applied"
   ]
  },
  {
   "cell_type": "code",
   "execution_count": 19,
   "metadata": {
    "tags": [
     "remove-cell"
    ]
   },
   "outputs": [],
   "source": [
    "def filter1(a,b): # a - symbol (1-dim pixel array), b - bias\n",
    "    n=len(a)      # length of a\n",
    "    return np.array([func.neuron([a[i]],[-b,1]) for i in range(n)])\n",
    "       # 1-dim array with the filter applied"
   ]
  },
  {
   "cell_type": "markdown",
   "metadata": {},
   "source": [
    "When operating on Ap with appropriately chosen $b=0.9$ (the level of the assumed bias is very much relevant). This yields the result"
   ]
  },
  {
   "cell_type": "code",
   "execution_count": 20,
   "metadata": {},
   "outputs": [
    {
     "name": "stdout",
     "output_type": "stream",
     "text": [
      "[[0 0 0 0 0 0 0 0 0 0 0 0]\n",
      " [0 0 0 0 0 0 0 0 0 0 0 0]\n",
      " [0 0 0 0 0 0 0 0 0 0 0 0]\n",
      " [0 0 0 1 1 1 1 0 0 0 0 0]\n",
      " [0 0 1 0 0 0 1 0 0 0 0 0]\n",
      " [0 0 1 0 0 0 1 0 0 0 0 0]\n",
      " [0 0 1 0 0 0 1 0 0 0 0 0]\n",
      " [0 0 0 1 1 1 1 1 0 0 0 0]\n",
      " [0 0 0 0 0 0 0 0 0 0 0 0]\n",
      " [0 0 0 0 0 0 0 0 0 0 0 0]\n",
      " [0 0 0 0 0 0 0 0 0 0 0 0]\n",
      " [0 0 0 0 0 0 0 0 0 0 0 0]]\n"
     ]
    }
   ],
   "source": [
    "print(filter(Ap,.9))"
   ]
  },
  {
   "cell_type": "markdown",
   "metadata": {},
   "source": [
    "where we can notice a \"clean\" symbol a. We check that it actually works perfectly well for all our associations (such perfection is not always the case):"
   ]
  },
  {
   "cell_type": "code",
   "execution_count": 21,
   "metadata": {
    "scrolled": true,
    "tags": [
     "remove-input"
    ]
   },
   "outputs": [
    {
     "data": {
      "image/png": "[encoded data removed]",
      "text/plain": [
       "<Figure size 1152x432 with 5 Axes>"
      ]
     },
     "metadata": {
      "filenames": {
       "image/png": "/Users/wojciechbroniowski/Dropbox/git/neuralnets-in-raw-python/nn_book/_build/jupyter_execute/docs/memory_47_0.png"
      },
      "needs_background": "light"
     },
     "output_type": "display_data"
    }
   ],
   "source": [
    "plt.figure(figsize=(16, 6)) # figure with horizontal and vertical size\n",
    "\n",
    "for i in range(1,6):     # loop over 5 figure panels, i is from 1 to 5\n",
    "    plt.subplot(1, 5, i) # panels, numbered from 1 to 5\n",
    "    plt.axis('off')      # no axes\n",
    "    plt.imshow(filter(symp[i-1],0.9)) # plot symbol, numbered from 0 to 4"
   ]
  },
  {
   "cell_type": "markdown",
   "metadata": {},
   "source": [
    "A representation of the just presented model of the heteroassociative memory in terms of a **single-layer** network of MCP neurons can be readily given. In the plot below we indicate all the operations, going from left to right. The input symbol is flattened. The input and output layers are fully connected with edges (not shown) connecting the input cells to the neurons in the output layer. The weights of the edges are equal to the matrix elements $M_{ij}$, indicated with symbol M. The activation function is the same for all neurons and has the form of the step function.\n",
    "\n",
    "At the bottom, we indicate the elements of the input vector, $x_i$, of the signal reaching the neuron $j$, $s_j=\\sum_i x_i M_{ij}$, and the final output $y_j=f(s_j)$."
   ]
  },
  {
   "cell_type": "code",
   "execution_count": 22,
   "metadata": {
    "scrolled": false,
    "tags": [
     "remove-input"
    ]
   },
   "outputs": [
    {
     "data": {
      "image/png": "[encoded data removed]",
      "text/plain": [
       "<Figure size 1152x864 with 9 Axes>"
      ]
     },
     "metadata": {
      "filenames": {
       "image/png": "/Users/wojciechbroniowski/Dropbox/git/neuralnets-in-raw-python/nn_book/_build/jupyter_execute/docs/memory_49_0.png"
      },
      "needs_background": "light"
     },
     "output_type": "display_data"
    }
   ],
   "source": [
    "plt.figure(figsize=(16, 12)) \n",
    "\n",
    "plt.subplot(1, 9, 1)\n",
    "plt.axis('off') \n",
    "plt.imshow(A);\n",
    "\n",
    "plt.subplot(1, 9, 2) \n",
    "plt.axis('off') \n",
    "plt.text(0.2,0.4,'flatten',fontsize=24)\n",
    "plt.text(-.4,0.7,'input',fontsize=20);\n",
    "\n",
    "plt.subplot(1, 9, 3) \n",
    "plt.axis('off') \n",
    "plt.imshow(np.transpose([fA]))\n",
    "\n",
    "plt.subplot(1, 9, 4) \n",
    "plt.axis('off') \n",
    "plt.text(0.25,0.4,'M',fontsize=24)\n",
    "plt.text(-0.4,0.7,'fully connected',fontsize=20)\n",
    "plt.text(-0.4,0.03,'$x_i$',fontsize=24);\n",
    "\n",
    "fAp=np.dot(M,fA)\n",
    "\n",
    "plt.subplot(1, 9, 5) \n",
    "plt.axis('off') \n",
    "plt.imshow(np.transpose([fAp]));\n",
    "\n",
    "plt.subplot(1, 9, 6) \n",
    "plt.axis('off') \n",
    "plt.text(0.15,0.4,'filter',fontsize=24)\n",
    "plt.text(-0.4,0.7,'step activation',fontsize=20)\n",
    "plt.text(-0.4,0.03,'$s_j$',fontsize=24);\n",
    "\n",
    "plt.subplot(1, 9, 7) \n",
    "plt.axis('off') \n",
    "plt.imshow(np.transpose([filter1(fAp,.9)]));\n",
    "\n",
    "plt.subplot(1, 9, 8)\n",
    "plt.axis('off') \n",
    "plt.text(-.20,0.4,'reshape',fontsize=24)\n",
    "plt.text(.4,0.7,'output',fontsize=20)\n",
    "plt.text(-0.4,0.03,'$y_j$',fontsize=24);\n",
    "\n",
    "plt.subplot(1, 9, 9)\n",
    "plt.axis('off') \n",
    "plt.imshow(filter(Ap,.9));\n",
    "\n",
    "\n"
   ]
  },
  {
   "cell_type": "markdown",
   "metadata": {},
   "source": [
    "\n",
    "```{admonition} Summary of the model of the heteroassociative memory\n",
    ":class: note\n",
    "\n",
    "0. Define pairs of associated symbols and construct the memory matrix $M$. \n",
    "\n",
    "1. The input is a symbol in the form of a 2-dim array of pixels with values 0 or 1.\n",
    "\n",
    "2. Flatten the symbol into a vector, which forms the layer of inputs $x_i$.\n",
    "\n",
    "3. The weight matrix of the fully connected ANN is $M$.\n",
    "\n",
    "4. The signal entering neuron $j$ in the output layer is $s_j=\\sum_i x_i M_{ij}$.\n",
    "\n",
    "5. The activation (step) function with a properly chosen bias yields $y_j=f(s_j)$.\n",
    "\n",
    "6. Cut the output vector into a matrix of pixels, which constitutes the final output.\n",
    "It should be the symbol associated to the input.\n",
    "```"
   ]
  },
  {
   "cell_type": "markdown",
   "metadata": {},
   "source": [
    "## Autoassociative memory"
   ]
  },
  {
   "cell_type": "markdown",
   "metadata": {},
   "source": [
    "### Self-associations"
   ]
  },
  {
   "cell_type": "markdown",
   "metadata": {},
   "source": [
    "The autoassociative memory model is in close analogy to the case of the heteroassociatine memory, but now the symbol is associated **with itself**. Why we do such a thing will become clear shortly, when we consider distorted input. We thus define the association matrix as follows:"
   ]
  },
  {
   "cell_type": "code",
   "execution_count": 23,
   "metadata": {},
   "outputs": [],
   "source": [
    "Ma=(np.outer(fA,fA)/np.dot(fA,fA)+np.outer(fa,fa)/np.dot(fa,fa)\n",
    "    +np.outer(fi,fi)/np.dot(fi,fi)+np.outer(fI,fI)/np.dot(fI,fI))"
   ]
  },
  {
   "cell_type": "code",
   "execution_count": 24,
   "metadata": {
    "tags": [
     "remove-cell"
    ]
   },
   "outputs": [],
   "source": [
    "Ap=np.dot(Ma,fA).reshape(12,12)\n",
    "ap=np.dot(Ma,fa).reshape(12,12)\n",
    "Ip=np.dot(Ma,fI).reshape(12,12)\n",
    "ip=np.dot(Ma,fi).reshape(12,12)\n",
    "Yp=np.dot(Ma,fY).reshape(12,12)\n",
    "\n",
    "symp=[Ap,ap,Ip,ip,Yp] # array of self-associated symbols"
   ]
  },
  {
   "cell_type": "markdown",
   "metadata": {},
   "source": [
    "After multiplying the flattened symbol with matrix Ma, reshaping, and filtering (all steps as in the heteroassociative case) we properly get back the original symbols (except for Y, which was not associated with anything). "
   ]
  },
  {
   "cell_type": "code",
   "execution_count": 25,
   "metadata": {
    "tags": [
     "remove-input"
    ]
   },
   "outputs": [
    {
     "data": {
      "image/png": "[encoded data removed]",
      "text/plain": [
       "<Figure size 1152x432 with 5 Axes>"
      ]
     },
     "metadata": {
      "filenames": {
       "image/png": "/Users/wojciechbroniowski/Dropbox/git/neuralnets-in-raw-python/nn_book/_build/jupyter_execute/docs/memory_57_0.png"
      },
      "needs_background": "light"
     },
     "output_type": "display_data"
    }
   ],
   "source": [
    "plt.figure(figsize=(16, 6)) # figure with horizontal and vertical size\n",
    "\n",
    "for i in range(1,6):     # loop over 5 figure panels, i is from 1 to 5\n",
    "    plt.subplot(1, 5, i) # panels, numbered from 1 to 5\n",
    "    plt.axis('off')      # no axes\n",
    "    plt.imshow(filter(symp[i-1],0.9)) # plot symbol, numbered from 0 to 4"
   ]
  },
  {
   "cell_type": "markdown",
   "metadata": {},
   "source": [
    "### Distorting the image"
   ]
  },
  {
   "cell_type": "markdown",
   "metadata": {},
   "source": [
    "Now imagine that the original image gets partially destroyed, with some pixels randomly altered from 1 to 0 and vice versa. "
   ]
  },
  {
   "cell_type": "code",
   "execution_count": 26,
   "metadata": {},
   "outputs": [],
   "source": [
    "ne=12   # number of alterations\n",
    "\n",
    "for s in sym:                     # loop over symbols\n",
    "    for _ in range(ne):           # loop over alteratons\n",
    "        i=np.random.randint(0,12) # random position in row\n",
    "        j=np.random.randint(0,12) # random position in column\n",
    "        s[i,j]=1-s[i,j]           # trick to switch 1 and 0"
   ]
  },
  {
   "cell_type": "markdown",
   "metadata": {},
   "source": [
    "After this destruction, the input symbols look like this:"
   ]
  },
  {
   "cell_type": "code",
   "execution_count": 27,
   "metadata": {
    "tags": [
     "remove-input"
    ]
   },
   "outputs": [
    {
     "data": {
      "image/png": "[encoded data removed]",
      "text/plain": [
       "<Figure size 1152x432 with 5 Axes>"
      ]
     },
     "metadata": {
      "filenames": {
       "image/png": "/Users/wojciechbroniowski/Dropbox/git/neuralnets-in-raw-python/nn_book/_build/jupyter_execute/docs/memory_62_0.png"
      },
      "needs_background": "light"
     },
     "output_type": "display_data"
    }
   ],
   "source": [
    "plt.figure(figsize=(16, 6)) # figure with horizontal and vertical size\n",
    "\n",
    "for i in range(1,6):     # loop over 5 figure panels, i is from 1 to 5\n",
    "    plt.subplot(1, 5, i) # panels, numbered from 1 to 5\n",
    "    plt.axis('off')      # no axes\n",
    "    plt.imshow(sym[i-1]) # plot symbol, numbered from 0 to 4"
   ]
  },
  {
   "cell_type": "markdown",
   "metadata": {},
   "source": [
    "### Restoring the symbols"
   ]
  },
  {
   "cell_type": "markdown",
   "metadata": {},
   "source": [
    "We next apply our model of the autoassociative memory to all the \"destroyed\" symbols:"
   ]
  },
  {
   "cell_type": "code",
   "execution_count": 28,
   "metadata": {},
   "outputs": [],
   "source": [
    "Ap=np.dot(Ma,fA).reshape(12,12)\n",
    "ap=np.dot(Ma,fa).reshape(12,12)\n",
    "Ip=np.dot(Ma,fI).reshape(12,12)\n",
    "ip=np.dot(Ma,fi).reshape(12,12)\n",
    "Yp=np.dot(Ma,fY).reshape(12,12)\n",
    "\n",
    "symp=[Ap,ap,Ip,ip,Yp] "
   ]
  },
  {
   "cell_type": "markdown",
   "metadata": {},
   "source": [
    "which yields"
   ]
  },
  {
   "cell_type": "code",
   "execution_count": 29,
   "metadata": {
    "scrolled": true,
    "tags": [
     "remove-input"
    ]
   },
   "outputs": [
    {
     "data": {
      "image/png": "[encoded data removed]",
      "text/plain": [
       "<Figure size 1152x432 with 5 Axes>"
      ]
     },
     "metadata": {
      "filenames": {
       "image/png": "/Users/wojciechbroniowski/Dropbox/git/neuralnets-in-raw-python/nn_book/_build/jupyter_execute/docs/memory_67_0.png"
      },
      "needs_background": "light"
     },
     "output_type": "display_data"
    }
   ],
   "source": [
    "plt.figure(figsize=(16, 6)) # figure with horizontal and vertical size\n",
    "\n",
    "for i in range(1,6):      # loop over 5 figure panels, i is from 1 to 5\n",
    "    plt.subplot(1, 5, i)  # panels, numbered from 1 to 5\n",
    "    plt.axis('off')       # no axes\n",
    "    plt.imshow(symp[i-1]) # plot symbol, numbered from 0 to 4"
   ]
  },
  {
   "cell_type": "markdown",
   "metadata": {},
   "source": [
    "After filtering with $b=0.9$ we obtain back the original symbols:"
   ]
  },
  {
   "cell_type": "code",
   "execution_count": 30,
   "metadata": {
    "scrolled": true
   },
   "outputs": [
    {
     "data": {
      "image/png": "[encoded data removed]",
      "text/plain": [
       "<Figure size 1152x432 with 5 Axes>"
      ]
     },
     "metadata": {
      "filenames": {
       "image/png": "/Users/wojciechbroniowski/Dropbox/git/neuralnets-in-raw-python/nn_book/_build/jupyter_execute/docs/memory_69_0.png"
      },
      "needs_background": "light"
     },
     "output_type": "display_data"
    }
   ],
   "source": [
    "plt.figure(figsize=(16, 6))\n",
    "\n",
    "for i in range(1,6):     \n",
    "    plt.subplot(1, 5, i)  \n",
    "    plt.axis('off')       \n",
    "    plt.imshow(filter(symp[i-1],0.9)) # plot filtered symbol"
   ]
  },
  {
   "cell_type": "markdown",
   "metadata": {},
   "source": [
    "The application of the algorithm can thus decipher a \"destroyed\" text, or, more generally, provide an error correction mechanism."
   ]
  },
  {
   "cell_type": "markdown",
   "metadata": {},
   "source": [
    "```{admonition} Summary of the model of the autooassociative memory\n",
    ":class: note\n",
    "\n",
    "0. Construct the memory matrix $Ma$. \n",
    "\n",
    "1. The input is a symbol in the form of a 2-dim array of pixels with values 0 or 1, with a \n",
    "certain number of pixels randomly distorted.\n",
    "\n",
    "2. Flatten the symbol into a vector, which forms the layer of inputs $x_i$.\n",
    "\n",
    "3. The weight matrix of the fully connected ANN is $Ma$.\n",
    "\n",
    "4. The signal entering neuron $j$ in the output layer is $s_j=\\sum_i x_i M_{ij}$.\n",
    "\n",
    "5. The activation (step) function with a properly chosen bias yields $y_j=f(s_j)$.\n",
    "\n",
    "6. Cut the output vector into a matrix of pixels, which constitutes the final output. It should bring back the original symbol.\n",
    "```"
   ]
  },
  {
   "cell_type": "markdown",
   "metadata": {},
   "source": [
    "```{important}\n",
    "Message: ANNs with one layer of MPC neurons can serve as very simple models of memory!\n",
    "```"
   ]
  },
  {
   "cell_type": "markdown",
   "metadata": {},
   "source": [
    "Note, however, that we constructed the memory matrices algebraically, externally, so to speak. Hence, the network has not really learned the associations from experience. There are ways to do it, but they require more advanced methods (see, e.g., {cite}```freeman1991```), similar to those covered in the following parts of these lectures.  "
   ]
  },
  {
   "cell_type": "markdown",
   "metadata": {},
   "source": [
    "```{note}\n",
    "An implementation of the discussed memory models in Mathematica is provided in \n",
    "{cite}`freeman1993` ([https://library.wolfram.com/infocenter/Books/3485](https://library.wolfram.com/infocenter/Books/3485)) and in the already mentioned lectures by [Daniel Kersten](\n",
    "http://vision.psych.umn.edu/users/kersten/kersten-lab/courses/Psy5038WF2014/IntroNeuralSyllabus.html).\n",
    "```"
   ]
  },
  {
   "cell_type": "markdown",
   "metadata": {},
   "source": [
    "## Exercises"
   ]
  },
  {
   "cell_type": "markdown",
   "metadata": {},
   "source": [
    "```{admonition} $~$\n",
    ":class: warning\n",
    "\n",
    "Play with the lecture code and \n",
    "\n",
    "- add more and more symbols;\n",
    "- change the filter level;\n",
    "- increase the number of alterations. \n",
    "\n",
    "Discuss your findings and the limitations of the models.\n",
    "\n",
    "```\n"
   ]
  }
 ],
 "metadata": {
  "celltoolbar": "Tags",
  "kernelspec": {
   "display_name": "Python 3",
   "language": "python",
   "name": "python3"
  },
  "language_info": {
   "codemirror_mode": {
    "name": "ipython",
    "version": 3
   },
   "file_extension": ".py",
   "mimetype": "text/x-python",
   "name": "python",
   "nbconvert_exporter": "python",
   "pygments_lexer": "ipython3",
   "version": "3.7.10"
  }
 },
 "nbformat": 4,
 "nbformat_minor": 4
}