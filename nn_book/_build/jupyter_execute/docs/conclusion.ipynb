{
 "cells": [
  {
   "cell_type": "markdown",
   "metadata": {},
   "source": [
    "# Concluding remarks"
   ]
  },
  {
   "cell_type": "markdown",
   "metadata": {},
   "source": [
    "In programmers life, building a well-functioning ANN, even for simple problems as used for illustrations in these lectures, can be a truly frustrating experience! There are many subtleties involved on the way. To list a few that we have encountered in this course, one faces a choice of the network architecture, freedom in the initialization of hyperparameters, a choice of the initial learning speed or the neighborhood distance and their update strategy, tackles with the emergence of many local minima, a choice of the neuron activation function, or deals with the problem of \"dead neurons\". Taking the right decisions is an art more than science, based on long experience of multitudes of code developers and towers of empty pizza boxes!\n",
    "\n",
    "Now, having understood the basic principles behind the simples ANNs inside out, the reader may safely jump to using professional tools of modern machine learning, with the conviction that inside the black boxes there sit essentially the same little codes he met here, but with all the knowledge, tricks, provisions, and options built in. Achieving this conviction, through appreciation of simplicity, has been one of the main goals of this course. "
   ]
  },
  {
   "cell_type": "markdown",
   "metadata": {},
   "source": [
    "```{note}\n",
    "The references provided in the text as hyperlinks are not repeated in the literature list below.\n",
    "```"
   ]
  },
  {
   "cell_type": "markdown",
   "metadata": {},
   "source": [
    "```{bibliography} ../_bibliography/references.bib\n",
    "```"
   ]
  }
 ],
 "metadata": {
  "kernelspec": {
   "display_name": "Python 3",
   "language": "python",
   "name": "python3"
  },
  "language_info": {
   "codemirror_mode": {
    "name": "ipython",
    "version": 3
   },
   "file_extension": ".py",
   "mimetype": "text/x-python",
   "name": "python",
   "nbconvert_exporter": "python",
   "pygments_lexer": "ipython3",
   "version": "3.7.6"
  }
 },
 "nbformat": 4,
 "nbformat_minor": 4
}