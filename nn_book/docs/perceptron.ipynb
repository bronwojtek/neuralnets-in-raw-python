{
 "cells": [
  {
   "cell_type": "markdown",
   "metadata": {},
   "source": [
    "(perc-lab)=\n",
    "# Perceptron"
   ]
  },
  {
   "cell_type": "code",
   "execution_count": 1,
   "metadata": {
    "tags": [
     "remove-cell"
    ]
   },
   "outputs": [
    {
     "name": "stdout",
     "output_type": "stream",
     "text": [
      "Invoking __init__.py for neural\n"
     ]
    }
   ],
   "source": [
    "import numpy as np              # numeric\n",
    "import matplotlib.pyplot as plt # plotting\n",
    "import matplotlib as mpl        # plotting\n",
    "\n",
    "# showing imported graphics\n",
    "from IPython.display import display, Image\n",
    "\n",
    "import sys                  # system library\n",
    "sys.path.append('./lib_nn') # path to my library package\n",
    "\n",
    "from neural import *        # import my library package"
   ]
  },
  {
   "cell_type": "markdown",
   "metadata": {},
   "source": [
    "## Supervised learning"
   ]
  },
  {
   "cell_type": "markdown",
   "metadata": {},
   "source": [
    "We have shown in the previous chapters that even the simplest ANNs can carry out useful tasks (emulate logical networks or provide simple memory models). Generally, each ANN has\n",
    "\n",
    "- a certain **architecture**, i.e. the number of layers, number of neurons in each layer, scheme of connections between the neurons (fully connected or not, feed forward, recurrent, ...);\n",
    "\n",
    "- **weights (hyperparameters)**, with specific values, defining the network's functionality.\n",
    "\n",
    "The prime practical question is how to set (for a given architecture) the weights such that a requested goal is realized, i.e., a given input yields a desired output. \n",
    "In the tasks discussed earlier, the weights could be constructed *a priori*, be it for the logical gates or for the memory models. However, for more involved applications we want to have an \"easier\" way of determining the weights. Actually, for complicated problems a \"theoretical\" a priori determination of weights is not possible at all. This is the basic reason for inventing **learning algorithms**, which automatically adjust the weights with the help of the available data. \n",
    "\n",
    "In this chapter we begin to explore such algorithms with the **supervised learning** approach, used i.a. for data classification.  "
   ]
  },
  {
   "cell_type": "markdown",
   "metadata": {},
   "source": [
    "```{admonition} Supervised learning\n",
    ":class: important\n",
    "\n",
    "In this strategy, the data must possess **labels** which a priori determine the correct category for each point. Think for example of pictures of animals (data) and their descriptions (cat, dog,...), which are called the labels. \n",
    "The labeled data are then split into a **training** sample and a **test** sample. \n",
    "\n",
    "The basic steps of supervised learning for a given ANN are following:\n",
    "\n",
    "- Initialize somehow the weights, for instance randomly or to zero.\n",
    "\n",
    "- Read subsequently the data points from the training sample and pass them through your ANN. The obtained answer may differ from the correct one, given by the label, in which case the weights are adjusted according to a specific prescription (to be discussed later on). \n",
    "\n",
    "- Repeat, if needed, the previous step. Typically, the weights are changed less and less as the algorithm proceeds.\n",
    "\n",
    "- Finish the training when a stopping criterion is reached (weights do not change much any more or the maximum number of iterations has been completed). \n",
    "\n",
    "- Test the trained ANN on a test sample.\n",
    "\n",
    "If satisfied, you have a desired trained ANN performing a specific task (like classification), which can be used on new, unlabeled data. If not, you can split the sample in the training and the test parts in a different way and repeat the procedure from the beginning. Also, you may try to acquire more data (which may be expensive), or change your network's architecture.\n",
    "\n",
    "The term \"supervised\" comes form an interpretation of the procedure where the labels are held by a \"teacher\", who thus knows which answers are correct and which are wrong, and who **supervises** that way the training process. Of course, a computer program \"supervises itself\".\n",
    "```"
   ]
  },
  {
   "cell_type": "markdown",
   "metadata": {},
   "source": [
    "## Perceptron as a binary classifier"
   ]
  },
  {
   "cell_type": "markdown",
   "metadata": {},
   "source": [
    "The simplest supervised learning algorithm \n",
    "is the [perceptron](https://en.wikipedia.org/wiki/Perceptron), invented in 1958 by Frank Rosenblatt. It can be used, i.a., to \n",
    "construct **binary classifiers** of the data. *Binary* means that the network \n",
    "is used to assess if a data item has a particular feature, or not - just two possibilities. Multi-label classification is also possible with ANNs (see exercises), but we do not discuss it in these lectures."
   ]
  },
  {
   "cell_type": "markdown",
   "metadata": {},
   "source": [
    "```{Admonition} Remark\n",
    ":class: note\n",
    "\n",
    "The term *perceptron* is also used for ANNs (without or with intermediate layers) consisting of the MCP neurons (cf. Fig. {numref}`ffnn-fig` and {numref}`MCP1-fig`), on which the perceptron algorithm is executed. \n",
    "```"
   ]
  },
  {
   "cell_type": "markdown",
   "metadata": {},
   "source": [
    "### Sample with a known classification rule"
   ]
  },
  {
   "cell_type": "markdown",
   "metadata": {},
   "source": [
    "To begin, we need some training data, which we will generate as random points in a square. Thus the coordinates of the point, $x_1$ and $x_2$, are taken in the range $[0,1]$. We define two categories: one for the points lying above the line $x_1=x_2$ (call them pink), and the other for the points lying below (blue). During the generation, we check whether $x_2 > x_1$ or not, and assign a **label** to each data point equal to, correspondingly, 1 or 0. These labels are \"true\" answers."
   ]
  },
  {
   "cell_type": "markdown",
   "metadata": {},
   "source": [
    "The function generating the above described data point with a label is "
   ]
  },
  {
   "cell_type": "code",
   "execution_count": 2,
   "metadata": {},
   "outputs": [],
   "source": [
    "def point():     # generates random coordinates x1, x2, and 1 if x2>x1, 0 otherwise\n",
    "    x1=np.random.random()          # random number from the range [0,1]\n",
    "    x2=np.random.random()\n",
    "    if(x2>x1):                     # condition met\n",
    "        return np.array([x1,x2,1]) # add label 1\n",
    "    else:                          # not met\n",
    "        return np.array([x1,x2,0]) # add label 0"
   ]
  },
  {
   "cell_type": "markdown",
   "metadata": {},
   "source": [
    "We generate a **training sample** of **npo**=300 labeled data points:"
   ]
  },
  {
   "cell_type": "code",
   "execution_count": 3,
   "metadata": {
    "scrolled": false
   },
   "outputs": [
    {
     "name": "stdout",
     "output_type": "stream",
     "text": [
      "  x1         x2         label\n",
      "[[0.30177711 0.36256864 1.        ]\n",
      " [0.74563557 0.63263509 0.        ]\n",
      " [0.46905767 0.66982076 1.        ]\n",
      " [0.04018207 0.20842031 1.        ]\n",
      " [0.04874155 0.21942538 1.        ]]\n"
     ]
    }
   ],
   "source": [
    "npo=300 # number of data points in the training sample\n",
    "\n",
    "print('  x1         x2         label')       # header\n",
    "samp=np.array([point() for _ in range(npo)]) # training sample, _ is dummy iterator\n",
    "print(samp[:5, :])                           # first 5 data points"
   ]
  },
  {
   "cell_type": "markdown",
   "metadata": {},
   "source": [
    "```{admonition} Loops in arrays\n",
    ":class: warning\n",
    "\n",
    "In Python, one can conveniently define arrays with a loop inside, e.g. \n",
    "\n",
    "[i**2 for i in range(4)] yields [1,4,9].\n",
    "\n",
    "In loops, if the index does not explicitly show in the expression, one can use a dummy index **_**, as for instance in the above code:\n",
    "\n",
    "[point() for _ in range(npo)]\n",
    "```"
   ]
  },
  {
   "cell_type": "markdown",
   "metadata": {},
   "source": [
    "```{admonition} Ranges in arrays\n",
    ":class: warning\n",
    "\n",
    "Not to print unnecessarily the very long table, we have used above for the first time the **ranges for array indices**. For example, 2:5 means from 2 to 4 (recall the last one is excluded!), :5  - from 0 to 4, 5: - from 5 to the end, and : - all the indices.\n",
    "```\n",
    "\n",
    "Graphically, our data are shown in the figure below. We also plot the line $x_2=x_1$, which separates the blue and purple points. In this case the division is a priori possible (we know the rule) in an exact manner. "
   ]
  },
  {
   "cell_type": "code",
   "execution_count": 4,
   "metadata": {
    "scrolled": true
   },
   "outputs": [
    {
     "data": {
      "image/png": "[encoded data removed]",
      "text/plain": [
       "<Figure size 276x276 with 1 Axes>"
      ]
     },
     "metadata": {},
     "output_type": "display_data"
    }
   ],
   "source": [
    "plt.figure(figsize=(2.3,2.3),dpi=120)                 \n",
    "plt.xlim(-.1,1.1)                                  # axes limits\n",
    "plt.ylim(-.1,1.1)\n",
    "plt.scatter(samp[:,0],samp[:,1],c=samp[:,2],       # label determines the color\n",
    "            s=5,cmap=mpl.cm.cool)                  # point size and color\n",
    "\n",
    "plt.plot([-0.1, 1.1], [-0.1, 1.1])                 # separating line\n",
    "\n",
    "plt.xlabel('$x_1$',fontsize=11)                    \n",
    "plt.ylabel('$x_2$',fontsize=11)\n",
    "\n",
    "plt.show()"
   ]
  },
  {
   "cell_type": "markdown",
   "metadata": {},
   "source": [
    "```{admonition} Linearly separable sets\n",
    ":class: important\n",
    "\n",
    "Two sets of points (as here blue and pink) on a plane which are possible to separate with a straight line are called **linearly separable**. In three dimensions, the sets must be separable with a plane, in general in $n$ dimensions the sets must must be separable with an $n-1$ dimensional hyperplane.\n",
    "```\n",
    "\n",
    "Analytically, if the points in the $n$ dimensional space have coordinates $(x_1,x_2,\\dots,x_n)$, one may chose the parameters $(w_0,w_1,\\dots,w_n)$ in such a way that one set of points must satisfy the condition \n",
    "\n",
    "\n",
    "```{math}\n",
    ":label: eq-linsep\n",
    "\n",
    "w_0+x_1 w_1+x_2 w_2 + \\dots x_n w_n > 0\n",
    "```\n",
    "\n",
    "and the other one the opposite condition, with $>$ replaced with $\\le$."
   ]
  },
  {
   "cell_type": "markdown",
   "metadata": {},
   "source": [
    "Now a crucial, albeit obvious observation: the above inequality is precisely the condition implemented in the [MCP neuron](MCP-lab) (with the step activation function) in the convention of {numref}`MCP2-fig`! We may thus enforce condition {eq}`eq-linsep` with the **neuron** function from the **neural** library.\n",
    "\n",
    "In our example, we have for the pink points, by construction, \n",
    "\n",
    "$$\n",
    "x_2>x_1 \\to s=-x_1+x_2 >0\n",
    "$$\n",
    "\n",
    "from where, using  Eq. {eq}`eq-linsep`, we can immediately read out \n",
    "\n",
    "$$\n",
    "w_0=0, \\;\\; w_1=-1, w_2=1.\n",
    "$$\n",
    "\n",
    "Thus the **neuron** function is used on a sample point p as follows:"
   ]
  },
  {
   "cell_type": "code",
   "execution_count": 5,
   "metadata": {},
   "outputs": [
    {
     "data": {
      "text/plain": [
       "1"
      ]
     },
     "execution_count": 5,
     "metadata": {},
     "output_type": "execute_result"
    }
   ],
   "source": [
    "p=[0.6,0.8]      # sample point with x_2 > x_1\n",
    "w=[0,-1,1]       # weights as given above\n",
    "\n",
    "func.neuron(p,w) "
   ]
  },
  {
   "cell_type": "markdown",
   "metadata": {},
   "source": [
    "The neuron fired, so point p is pink."
   ]
  },
  {
   "cell_type": "markdown",
   "metadata": {},
   "source": [
    "```{admonition} Observation\n",
    ":class: important\n",
    "\n",
    "A single MCP neuron with properly chosen weights can be used as a binary classifier for $n$-dimensional separable data. \n",
    "```"
   ]
  },
  {
   "cell_type": "markdown",
   "metadata": {},
   "source": [
    "### Sample with an unknown classification rule"
   ]
  },
  {
   "cell_type": "markdown",
   "metadata": {},
   "source": [
    "At this point the reader may be a bit misled by the apparent triviality of the results. The confusion may stem from the fact that in the above example we knew from the outset the rule defining the two classes of points ($x_2>x_1$, or opposite). However, in a general \"real life\" situation this is usually not the case! Imagine that we encounter the (labeled) data **samp2** looking like this: "
   ]
  },
  {
   "cell_type": "code",
   "execution_count": 6,
   "metadata": {
    "tags": [
     "remove-cell"
    ]
   },
   "outputs": [],
   "source": [
    "def point2():\n",
    "    x1=np.random.random()          # random number from the range [0,1]\n",
    "    x2=np.random.random()\n",
    "    if(x2>x1*0.52+0.25):               # condition met\n",
    "        return np.array([x1,x2,1]) # add label 1\n",
    "    else:                          # not met\n",
    "        return np.array([x1,x2,0]) # add label 0"
   ]
  },
  {
   "cell_type": "code",
   "execution_count": 7,
   "metadata": {
    "scrolled": true,
    "tags": [
     "remove-cell"
    ]
   },
   "outputs": [],
   "source": [
    "samp2=np.array([point2() for _ in range(npo)])              "
   ]
  },
  {
   "cell_type": "code",
   "execution_count": 8,
   "metadata": {},
   "outputs": [
    {
     "name": "stdout",
     "output_type": "stream",
     "text": [
      "[[0.39498232 0.30505482 0.        ]\n",
      " [0.11269714 0.95880028 1.        ]\n",
      " [0.29661374 0.11679508 0.        ]\n",
      " [0.89268244 0.35261853 0.        ]\n",
      " [0.89178862 0.25506102 0.        ]]\n"
     ]
    }
   ],
   "source": [
    "print(samp2[:5])"
   ]
  },
  {
   "cell_type": "code",
   "execution_count": 9,
   "metadata": {
    "scrolled": false,
    "tags": [
     "remove-input"
    ]
   },
   "outputs": [
    {
     "data": {
      "image/png": "[encoded data removed]",
      "text/plain": [
       "<Figure size 276x276 with 1 Axes>"
      ]
     },
     "metadata": {},
     "output_type": "display_data"
    }
   ],
   "source": [
    "plt.figure(figsize=(2.3,2.3),dpi=120)                 \n",
    "plt.xlim(-.1,1.1)                                  \n",
    "plt.ylim(-.1,1.1)\n",
    "plt.scatter(samp2[:,0],samp2[:,1],c=samp2[:,2],     \n",
    "            s=5,cmap=mpl.cm.cool)                  \n",
    "\n",
    "plt.xlabel('$x_1$',fontsize=12)                    \n",
    "plt.ylabel('$x_2$',fontsize=12)\n",
    "\n",
    "plt.show()"
   ]
  },
  {
   "cell_type": "markdown",
   "metadata": {},
   "source": [
    "The situation is in some sense inverted now. We have obtained from somewhere the (linearly separable) data, and want to find the rule that defines the two classes. In other words, we need to draw a dividing line, which is equivalent to finding the weights of the MCP neuron of {numref}`MCP2-fig` that would carry out the binary classification."
   ]
  },
  {
   "cell_type": "markdown",
   "metadata": {},
   "source": [
    "(lab-pa)=\n",
    "## Perceptron algorithm"
   ]
  },
  {
   "cell_type": "markdown",
   "metadata": {},
   "source": [
    "We could still try to figure out somehow the proper weights for the present example and find the dividing line, for instance with a ruler and pencil, but this is not the point. We wish to have a systematic algorithmic procedure that will effortlessly work for this one and any similar situation. The answer is the already mentioned [perceptron algorithm](https://en.wikipedia.org/wiki/Perceptron). \n",
    "\n",
    "Before presenting the algorithm, let us remark that the MCP neuron with some set of weights $w_0, w_1, w_2$ always yields some answer for a labeled data point, correct or wrong. For example"
   ]
  },
  {
   "cell_type": "code",
   "execution_count": 10,
   "metadata": {},
   "outputs": [
    {
     "name": "stdout",
     "output_type": "stream",
     "text": [
      "label  answer\n",
      "0      0\n",
      "1      0\n",
      "0      0\n",
      "0      1\n",
      "0      1\n"
     ]
    }
   ],
   "source": [
    "w=[-0.5,1,0]           # arbitrary choice of weights\n",
    "\n",
    "print(\"label  answer\") # header\n",
    "\n",
    "for i in range(5): # look at first 5 points\n",
    "    print(int(samp2[i,2]),\"    \",func.neuron(samp2[i,:2],w)) \n",
    "            # samp2[i,2] is the label, samp2[i,:2] is [x_1,x_2]"
   ]
  },
  {
   "cell_type": "markdown",
   "metadata": {},
   "source": [
    "We can see that some answers are equal to the corresponding labels (correct), and some are different (wrong). The general idea now is to **use the wrong answers** to adjust cleverly, in small steps, the weights, such that after sufficiently many iterations we get all the answers for the training sample correct!"
   ]
  },
  {
   "cell_type": "markdown",
   "metadata": {},
   "source": [
    "```{admonition} Perceptron algorithm\n",
    ":class: important\n",
    "\n",
    "We iterate over the points of the training data sample.\n",
    "If for a given point  the obtained result $y_o$ is equal to the true value $y_t$ (the label), i.e. the answer is  correct, we do nothing. However, if it is wrong, we change the weights a bit, such that the chance of getting the wrong answer decreases. The explicit recipe is as follows:\n",
    "\n",
    "$w_i \\to w_i  +  \\varepsilon  (y_t - y_o)  x_i$,\n",
    "\n",
    "where $ \\varepsilon $ is a small number (called the **learning speed**) and $x_i$ are the coordinates of the input point, with $i=0,\\dots,n$. \n",
    "```\n",
    "\n",
    "Let us follow how it works. Suppose first that $ x_i> 0$. Then if the label $ y_t = 1 $ is greater than the obtained answer $ y_o = 0$, the weight $w_i$ is increased. Then $ w \\cdot x $ also increases and $ y_o = f (w \\cdot x) $ is more likely to acquire the correct value of 1 (we remember how the step function $f$ looks like). If, on the other hand, the label $ y_t = 0 $ is less than the obtained answer $ y_o = 1 $, then the weight $w_i$ is decreased, $ w \\cdot x $ decreases, and $ y_o = f (w \\cdot x) $ has a better chance of achieving the correct value of 0.\n",
    "\n",
    "If $ x_i < 0 $ it is easy to analogously check that the recipe also works properly.\n",
    "\n",
    "When the answer is correct, $y_t=y_0$, then $ w_i \\to w_i$, so nothing changes. We do not \"spoil\" the perceptron!\n",
    "\n",
    "The above formula can be used many times for the same point from the training sample. Next,  we loop over all the points of the sample, and the whole procedure can still be repeated in many rounds to obtain stable weights (not changing any more as we continue the procedure, or changing only slightly).\n",
    "\n",
    "Typically, in such algorithms the learning speed $ \\varepsilon $ is being decreased in successive rounds. This is technically very important, because too large updates could spoil the obtained solution."
   ]
  },
  {
   "cell_type": "markdown",
   "metadata": {},
   "source": [
    "The Python implementation of the perceptron algorithm for the 2-dimensional data is as follows:"
   ]
  },
  {
   "cell_type": "code",
   "execution_count": 11,
   "metadata": {
    "scrolled": true
   },
   "outputs": [
    {
     "name": "stdout",
     "output_type": "stream",
     "text": [
      "Obtained weights:\n",
      "  w0     w1     w2\n",
      "[-0.517 -1.084  2.071]\n"
     ]
    }
   ],
   "source": [
    "w0=np.random.random()-0.5  # initialize weights randomly in the range [-0.5,0.5]\n",
    "w1=np.random.random()-0.5\n",
    "w2=np.random.random()-0.5\n",
    "\n",
    "eps=.3                     # initial  learning speed \n",
    "   \n",
    "for _ in range(20):        # loop over rounds\n",
    "    eps=0.9*eps            # in each round decrease the learning speed \n",
    "        \n",
    "    for i in range(npo):   # loop over the points from the data sample\n",
    "        \n",
    "        for _ in range(5): # repeat 5 times for each points\n",
    "            \n",
    "            yo = func.neuron(samp2[i,:2],[w0,w1,w2]) # obtained answer\n",
    "            \n",
    "            w0=w0+eps*(samp2[i,2]-yo)   # weight update (the perceptron formula)\n",
    "            w1=w1+eps*(samp2[i,2]-yo)*samp2[i,0]\n",
    "            w2=w2+eps*(samp2[i,2]-yo)*samp2[i,1]\n",
    "\n",
    "print(\"Obtained weights:\")\n",
    "print(\"  w0     w1     w2\")        # header \n",
    "w_o=np.array([w0,w1,w2])           # obtained weights\n",
    "print(np.round(w_o,3))             # result, rounded to 3 decimal places \n"
   ]
  },
  {
   "cell_type": "code",
   "execution_count": 12,
   "metadata": {
    "tags": [
     "remove-cell"
    ]
   },
   "outputs": [],
   "source": [
    "# for the separating line\n",
    "def l2(w0,w1,w2):\n",
    "    return [-.1,1.1],[-(w0-w1*0.1)/w2,-(w0+w1*1.1)/w2]\n",
    "\n",
    "# corresponding separating line\n",
    "lin=l2(w0,w1,w2)"
   ]
  },
  {
   "cell_type": "markdown",
   "metadata": {},
   "source": [
    "The obtained weights, as we know, define the dividing line. Thus, geometrically, the algorithm produces the dividing line as drawn below, together with the training sample as plotted above."
   ]
  },
  {
   "cell_type": "code",
   "execution_count": 13,
   "metadata": {
    "tags": [
     "remove-input"
    ]
   },
   "outputs": [
    {
     "data": {
      "image/png": "[encoded data removed]",
      "text/plain": [
       "<Figure size 276x276 with 1 Axes>"
      ]
     },
     "metadata": {},
     "output_type": "display_data"
    }
   ],
   "source": [
    "plt.figure(figsize=(2.3,2.3),dpi=120)\n",
    "plt.xlim(-.1,1.1)\n",
    "plt.ylim(-.1,1.1)\n",
    "plt.scatter(samp2[:,0],samp2[:,1],c=samp2[:,2],s=5,cmap=mpl.cm.cool)\n",
    "\n",
    "plt.plot(lin[0],lin[1]) # plot the obtained separating line\n",
    "\n",
    "plt.xlabel('$x_1$',fontsize=12)\n",
    "plt.ylabel('$x_2$',fontsize=12) \n",
    "\n",
    "plt.show()"
   ]
  },
  {
   "cell_type": "markdown",
   "metadata": {},
   "source": [
    "We can see that the algorithm works! All the pink points are above the dividing line, and all the blue ones below. Let us emphasize that the dividing line, given by the equation \n",
    "\n",
    "$$ w_0+x_1 w_1 + x_2 w_2=0,$$\n",
    "\n",
    "does not result from our a priori knowledge, but from the training of the MCP neuron which sets its weights. \n",
    "\n",
    "\n",
    "```{note}\n",
    "One can prove that the perceptron algorithm converges if and only if the data are linearly separable. \n",
    "```"
   ]
  },
  {
   "cell_type": "markdown",
   "metadata": {},
   "source": [
    "We may now reveal our secret! The data of the training sample **samp2** were labeled at the time of creation with the rule \n",
    "\n",
    "$$ x_2>0.25+0.52 x_1, $$\n",
    "\n",
    "which corresponds to the weights $w_0^c=0.25$, $w_1^c=-0.52$, $w_2^c=1$. "
   ]
  },
  {
   "cell_type": "code",
   "execution_count": 14,
   "metadata": {},
   "outputs": [
    {
     "name": "stdout",
     "output_type": "stream",
     "text": [
      "[-0.25 -0.52  1.  ]\n"
     ]
    }
   ],
   "source": [
    "w_c=np.array([-0.25,-0.52,1]) # weights used for labeling the training sample\n",
    "print(w_c)"
   ]
  },
  {
   "cell_type": "markdown",
   "metadata": {},
   "source": [
    "Note that these are not at all the same as the weights obtained from the training:"
   ]
  },
  {
   "cell_type": "code",
   "execution_count": 15,
   "metadata": {
    "scrolled": true
   },
   "outputs": [
    {
     "name": "stdout",
     "output_type": "stream",
     "text": [
      "[-0.517 -1.084  2.071]\n"
     ]
    }
   ],
   "source": [
    "print(np.round(w_o,3))"
   ]
  },
  {
   "cell_type": "markdown",
   "metadata": {},
   "source": [
    "The reason is twofold. First, note that the inequality condition {eq}`eq-linsep` is unchanged if we multiply both sides by a **positive** constant $c$. We may therefore scale all the weight by $c$, and the situation (the answers of the MCP neuron, the dividing line) remains exactly the same (we encounter here an **equivalence class** of weights scaled with a positive factor). \n",
    "\n",
    "For that reason, when we divide correspondingly the obtained weights by the weights used to label the sample, we get (almost) constant values: "
   ]
  },
  {
   "cell_type": "code",
   "execution_count": 16,
   "metadata": {},
   "outputs": [
    {
     "name": "stdout",
     "output_type": "stream",
     "text": [
      "[2.068 2.085 2.071]\n"
     ]
    }
   ],
   "source": [
    "print(np.round(w_o/w_c,3))"
   ]
  },
  {
   "cell_type": "markdown",
   "metadata": {},
   "source": [
    "The reason why the ratio values for $i=0,1,2$ are not exactly the same is that the sample has a finite number of points (here 300). Thus, there is always some gap between the two classes of points and there is some room for \"jiggling\" the separating line a bit. With more data points this mismatch effect decreases (see the exercises). "
   ]
  },
  {
   "cell_type": "markdown",
   "metadata": {},
   "source": [
    "### Testing the classifier"
   ]
  },
  {
   "cell_type": "markdown",
   "metadata": {},
   "source": [
    "Due to the limited size of the training sample and the \"jiggling\" effect desribed above, the classification result on a test sample is sometimes wrong. This always applies to the points near the dividing line, which is determined with accuracy depending on the multiplicity of the training sample. The code below carries out the check on a test sample. The test sample consists of labeled data generated randomly \"on the flight\" with the same function **point2** used to generate the training data before: "
   ]
  },
  {
   "cell_type": "code",
   "execution_count": 17,
   "metadata": {},
   "outputs": [],
   "source": [
    "def point2():\n",
    "    x1=np.random.random()          # random number from the range [0,1]\n",
    "    x2=np.random.random()\n",
    "    if(x2>x1*0.52+0.25):           # condition met\n",
    "        return np.array([x1,x2,1]) # add label 1\n",
    "    else:                          # not met\n",
    "        return np.array([x1,x2,0]) # add label 0"
   ]
  },
  {
   "cell_type": "markdown",
   "metadata": {},
   "source": [
    "The code for testing is as follows:"
   ]
  },
  {
   "cell_type": "code",
   "execution_count": 18,
   "metadata": {
    "scrolled": true
   },
   "outputs": [
    {
     "name": "stdout",
     "output_type": "stream",
     "text": [
      "number of misclassified points =  12  per  10000  ( 0.1 % )\n"
     ]
    }
   ],
   "source": [
    "er= np.empty((0,3))  # initialize an empty 1 x 3 array to store misclassified points\n",
    "\n",
    "ner=0                 # initial number of misclassified points\n",
    "nt=10000               # number of test points\n",
    "\n",
    "for _ in range(nt):   # loop over the test points\n",
    "    ps=point2()       # a test point \n",
    "    if(func.neuron(ps[:2],[w0,w1,w2])!=ps[2]): # if wrong answer                                      \n",
    "        er=np.append(er,[ps],axis=0)           # add the point to er\n",
    "        ner+=1                                 # count the number of errors\n",
    "        \n",
    "print(\"number of misclassified points = \",ner,\" per \",nt,\" (\", np.round(ner/nt*100,1),\"% )\")        "
   ]
  },
  {
   "cell_type": "markdown",
   "metadata": {},
   "source": [
    "As we can see, a small number of test points are misclassified. All these points lie near the separating line. "
   ]
  },
  {
   "cell_type": "code",
   "execution_count": 19,
   "metadata": {
    "scrolled": true,
    "tags": [
     "remove-input"
    ]
   },
   "outputs": [
    {
     "data": {
      "image/png": "[encoded data removed]",
      "text/plain": [
       "<Figure size 276x276 with 1 Axes>"
      ]
     },
     "metadata": {},
     "output_type": "display_data"
    }
   ],
   "source": [
    "plt.figure(figsize=(2.3,2.3),dpi=120)\n",
    "plt.xlim(-.1,1.1)\n",
    "plt.ylim(-.1,1.1)\n",
    "plt.scatter(er[:,0],er[:,1],c=er[:,2],s=8,cmap=mpl.cm.cool)\n",
    "\n",
    "plt.plot(lin[0],lin[1],linewidth=1) # plot the obtained separating line\n",
    "\n",
    "plt.xlabel('$x_1$',fontsize=12)\n",
    "plt.ylabel('$x_2$',fontsize=12)\n",
    "\n",
    "plt.show()"
   ]
  },
  {
   "cell_type": "markdown",
   "metadata": {},
   "source": [
    "```{admonition} Misclassification\n",
    ":class: note\n",
    "\n",
    "As it became clear, the reason for misclassification comes from the fact that the training sample does not determine the separating line precisely, but with some uncertainty, as there is a gap between the points of the training sample. For a better result, the training points would have to be \"denser\" in the vicinity of the separating line, or the training sample would have to be larger. \n",
    "```"
   ]
  },
  {
   "cell_type": "markdown",
   "metadata": {},
   "source": [
    "## Exercises"
   ]
  },
  {
   "cell_type": "markdown",
   "metadata": {},
   "source": [
    "```{admonition} $~$\n",
    ":class: warning\n",
    "\n",
    "- Play with the lecture code and see how the percentage of misclassified points decreases with the increasing size of the training sample.\n",
    "- As the perceptron algorithm converges, at some point the weights stop to change. Improve the lecture code by implementing stopping when the weights do not change more than some value when passing to the next round. \n",
    "- Generalize the above classifier to points in 3-dimensional space.\n",
    "```"
   ]
  }
 ],
 "metadata": {
  "kernelspec": {
   "display_name": "Python 3",
   "language": "python",
   "name": "python3"
  },
  "language_info": {
   "codemirror_mode": {
    "name": "ipython",
    "version": 3
   },
   "file_extension": ".py",
   "mimetype": "text/x-python",
   "name": "python",
   "nbconvert_exporter": "python",
   "pygments_lexer": "ipython3",
   "version": "3.8.11"
  }
 },
 "nbformat": 4,
 "nbformat_minor": 2
}
