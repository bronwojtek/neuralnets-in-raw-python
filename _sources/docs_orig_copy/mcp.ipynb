{
 "cells": [
  {
   "cell_type": "markdown",
   "metadata": {},
   "source": [
    "(MCP-lab)=\n",
    "# MCP Neuron "
   ]
  },
  {
   "cell_type": "code",
   "execution_count": 1,
   "metadata": {
    "tags": [
     "remove-cell"
    ]
   },
   "outputs": [],
   "source": [
    "import numpy as np              # numeric \n",
    "import matplotlib.pyplot as plt # plotting\n",
    "\n",
    "# display imported graphics\n",
    "from IPython.display import display, Image"
   ]
  },
  {
   "cell_type": "markdown",
   "metadata": {},
   "source": [
    "## Definition"
   ]
  },
  {
   "cell_type": "markdown",
   "metadata": {},
   "source": [
    "We need a basic building block of ANNs: the artificial neuron. The first mathematical model dates back to Warren McCulloch and Walter Pitts (MCP){cite}`McCulloch1943`, who proposed it in 1942, hence at the very beginning of the electronic computer age during World War II. The MCP neuron depicted in {numref}`MCP1-fig` is a basic ingredient of all ANNs discussed in this course. It is built on very simple general rules, inspired neatly by the biological neuron:\n",
    "\n",
    "- The signal enters the nucleus via dendrites from other neurons.\n",
    "- The synaptic connection for each dendrite may have a different (and adjustable) strength (weight).\n",
    "- In the nucleus, the signal from all the dendrites is combined (summed up) into $s$.\n",
    "- If the combined signal is stronger than a given threshold, then the neuron fires along the axon, in the opposite case it remains still. \n",
    "- In the simplest realization, the strength of the fired signal has two possible levels: on or off, i.e. 1 or 0. No intermediate values are needed.\n",
    "- Axon terminal connects to dendrites of other neurons. "
   ]
  },
  {
   "cell_type": "markdown",
   "metadata": {},
   "source": [
    ":::{figure-md} MCP1-fig\n",
    "<img src=\"images/mcp-1a.png\" width=\"320px\">\n",
    "\n",
    "MCP neuron: $x_i$ is the input, $w_i$ are the weights, $s$ is the signal, $b$ is the bias, and $f(s;b)$ represents an activation function, yielding the output $y=f(s;b)$. The blue oval encircles the whole neuron, as used e.g. in {numref}`ffnn-fig`.\n",
    ":::"
   ]
  },
  {
   "cell_type": "markdown",
   "metadata": {},
   "source": [
    "Translating this into a mathematical prescription, one assigns to the input cells the numbers $x_1, x_2 \\dots, x_n$ (input data point). The strength of the synaptic connections is controlled with the **weights** $w_i$. Then the combined signal is defined as the weighted sum \n",
    "\n",
    "$$s=\\sum_{i=1}^n x_i w_i.$$\n",
    "\n",
    "The signal becomes an argument of the **activation function**, which, in the simplest case, takes the form of the step function\n",
    "\n",
    "$$\n",
    "f(s;b) = \\left \\{ \\begin{array}{l} 1 {\\rm ~for~} s \\ge b \\\\ 0 {\\rm ~for~} s < b \\end{array} \\right .\n",
    "$$\n",
    "\n",
    "When the combined signal $s$ is larger than the bias (threshold) $b$, the nucleus fires. i.e. the signal passed along the axon is 1. in the opposite case, the generated signal value is 0 (no firing). This is precisely what we need to mimic the biological prototype."
   ]
  },
  {
   "cell_type": "markdown",
   "metadata": {},
   "source": [
    "There is a convenient notational convention that is frequently used. Instead of splitting the bias from the input data, we may treat all uniformly. The condition for firing may be trivially transformed as\n",
    "\n",
    "$$\n",
    "s \\ge b  \\to s-b \\ge 0 \\to \\sum_{i=1}^n x_i w_i - b \\ge 0 \\to \\sum_{i=1}^n x_i w_i +x_0 w_0 \\ge 0 \n",
    "\\to \\sum_{i=0}^n x_i w_i \\ge 0,\n",
    "$$\n",
    "\n",
    "where $x_0=1$ and $w_0=-b$. In other words, we may treat the bias as a weight on the edge connected to an additional cell with the input always fixed to 1. This notation is shown in {numref}`MCP2-fig`. Now, the activation function is simply "
   ]
  },
  {
   "cell_type": "markdown",
   "metadata": {},
   "source": [
    "```{math}\n",
    ":label: eq-f\n",
    "\n",
    "f(s) = \\left \\{ \\begin{array}{l} 1 {\\rm ~for~} s \\ge 0 \\\\ 0 {\\rm ~for~} s < 0 \\end{array} \\right .,\n",
    "```"
   ]
  },
  {
   "cell_type": "markdown",
   "metadata": {},
   "source": [
    "with the summation index in $s$ starting from $0$:\n",
    "\n",
    "```{math}\n",
    ":label: eq-f0\n",
    "s=\\sum_{i=0}^n x_i w_i = x_0 w_0+x_1 w_1 + \\dots + x_n w_n.\n",
    "```"
   ]
  },
  {
   "cell_type": "markdown",
   "metadata": {},
   "source": [
    ":::{figure-md} MCP2-fig\n",
    "<img src=\"images/mcp-2a.png\" width=\"320px\">\n",
    "\n",
    "Alternative, more uniform representation of the MCP neuron, with $x_0=1$ and $w_0=-b$.\n",
    ":::"
   ]
  },
  {
   "cell_type": "markdown",
   "metadata": {},
   "source": [
    "```{admonition} Hyperparameters\n",
    "The weights $w_0=-b,w_1,\\dots,w_n$ are generally referred to as **hyperparameters**. They determine the functionality of the MCP neuron and may be changed during the learning (training) process (see the following). However, they are kept fixed when using the trained neuron on a particular input data sample.\n",
    "```"
   ]
  },
  {
   "cell_type": "markdown",
   "metadata": {},
   "source": [
    "```{important}\n",
    "An essential property of neurons in ANNs is **nonlinearity** of the activation function. Without this feature, the MCP neuron would simply represent a scalar product, and the feed-forward networks would just involve trivial matrix multiplications.\n",
    "```"
   ]
  },
  {
   "cell_type": "markdown",
   "metadata": {},
   "source": [
    "(mcp_P-lab)=\n",
    "## MCP neuron in Python"
   ]
  },
  {
   "cell_type": "markdown",
   "metadata": {},
   "source": [
    "We now implement the mathematical model of the neuron of Sec. {ref}`MCP-lab` in Python. First, we obviously need arrays (vectors), which are represented as"
   ]
  },
  {
   "cell_type": "code",
   "execution_count": 2,
   "metadata": {},
   "outputs": [],
   "source": [
    "x = [1,3,7]\n",
    "w = [1,1,2.5]"
   ]
  },
  {
   "cell_type": "markdown",
   "metadata": {},
   "source": [
    "and (**important**) are indexed starting from 0, e.g."
   ]
  },
  {
   "cell_type": "code",
   "execution_count": 3,
   "metadata": {},
   "outputs": [
    {
     "data": {
      "text/plain": [
       "1"
      ]
     },
     "execution_count": 3,
     "metadata": {},
     "output_type": "execute_result"
    }
   ],
   "source": [
    "x[0]"
   ]
  },
  {
   "cell_type": "markdown",
   "metadata": {},
   "source": [
    "(note that typing a variable at the end of a notebook cell prints out its content). The numpy library functions carry the prefix **np**, which is the alias given at import. Note that these functions act *distributively* over arrays, e.g."
   ]
  },
  {
   "cell_type": "code",
   "execution_count": 4,
   "metadata": {},
   "outputs": [
    {
     "data": {
      "text/plain": [
       "array([0.84147098, 0.14112001, 0.6569866 ])"
      ]
     },
     "execution_count": 4,
     "metadata": {},
     "output_type": "execute_result"
    }
   ],
   "source": [
    "np.sin(x)"
   ]
  },
  {
   "cell_type": "markdown",
   "metadata": {},
   "source": [
    "which is a very convenient feature when programming. We also have the scalar product $x \\cdot w = \\sum_i x_i w_i$ handy, which we use to build the combined signal $s$ entering the MCP neuron:"
   ]
  },
  {
   "cell_type": "code",
   "execution_count": 5,
   "metadata": {},
   "outputs": [
    {
     "data": {
      "text/plain": [
       "21.5"
      ]
     },
     "execution_count": 5,
     "metadata": {},
     "output_type": "execute_result"
    }
   ],
   "source": [
    "np.dot(x,w)"
   ]
  },
  {
   "cell_type": "markdown",
   "metadata": {},
   "source": [
    "Next, we need to construct the neuron activation function, which presently is just the step function {eq}`eq-f`:"
   ]
  },
  {
   "cell_type": "code",
   "execution_count": 6,
   "metadata": {},
   "outputs": [],
   "source": [
    "def step(s):       # step function\n",
    "     if s > 0:     # condition satisfied\n",
    "        return 1\n",
    "     else:         # otherwise\n",
    "        return 0"
   ]
  },
  {
   "cell_type": "markdown",
   "metadata": {},
   "source": [
    "where in the top comments we have indicated that the function is also defined in the **neural** library package, cf. [Appendix](app-lab). For the visualizers, the plot of the step function is following:"
   ]
  },
  {
   "cell_type": "code",
   "execution_count": 7,
   "metadata": {
    "scrolled": false
   },
   "outputs": [
    {
     "data": {
      "image/png": "[encoded data removed]",
      "text/plain": [
       "<Figure size 276x276 with 1 Axes>"
      ]
     },
     "metadata": {},
     "output_type": "display_data"
    }
   ],
   "source": [
    "plt.figure(figsize=(2.3,2.3),dpi=120) # set the size and resolution of the figure\n",
    "\n",
    "s = np.linspace(-2, 2, 100)   # array of 100+1 equally spaced points in [-2, 2]\n",
    "fs = [step(z) for z in s]     # corresponding array of function values\n",
    "\n",
    "plt.xlabel('signal s',fontsize=11)      # axes labels\n",
    "plt.ylabel('response f(s)',fontsize=11)\n",
    "plt.title('step function',fontsize=11)  # plot title\n",
    "\n",
    "plt.plot(s, fs)\n",
    "plt.show()"
   ]
  },
  {
   "cell_type": "markdown",
   "metadata": {},
   "source": [
    "Since $x_0=1$ always, we do not want to explicitly carry this over in the arguments of functions that will follow. We will be frequently inserting $x_0=1$ into the input, for instance: "
   ]
  },
  {
   "cell_type": "code",
   "execution_count": 8,
   "metadata": {},
   "outputs": [
    {
     "data": {
      "text/plain": [
       "array([1, 5, 7])"
      ]
     },
     "execution_count": 8,
     "metadata": {},
     "output_type": "execute_result"
    }
   ],
   "source": [
    "x=[5,7]\n",
    "np.insert(x,0,1) # insert 1 in x at position 0"
   ]
  },
  {
   "cell_type": "markdown",
   "metadata": {},
   "source": [
    "Now we are ready to construct the [MCP neuron](MCP1-fig):"
   ]
  },
  {
   "cell_type": "code",
   "execution_count": 9,
   "metadata": {},
   "outputs": [],
   "source": [
    "def neuron(x,w,f=step): # (in the neural library)\n",
    "    \"\"\"                 \n",
    "    MCP neuron\n",
    "\n",
    "    x: array of inputs  [x1, x2,...,xn]\n",
    "    w: array of weights [w0, w1, w2,...,wn]\n",
    "    f: activation function, with step as default\n",
    "    \n",
    "    return: signal=weighted sum w0 + x1 w1 + x2 w2 +...+ xn wn = x.w\n",
    "    \"\"\" \n",
    "    return f(np.dot(np.insert(x,0,1),w)) # insert x0=1 into x, output f(x.w)"
   ]
  },
  {
   "cell_type": "markdown",
   "metadata": {},
   "source": [
    "We diligently put the comments in triple quotes to be able to get a useful help when needed:"
   ]
  },
  {
   "cell_type": "code",
   "execution_count": 10,
   "metadata": {
    "scrolled": false
   },
   "outputs": [
    {
     "name": "stdout",
     "output_type": "stream",
     "text": [
      "Help on function neuron in module __main__:\n",
      "\n",
      "neuron(x, w, f=<function step at 0x7ffe17063820>)\n",
      "    MCP neuron\n",
      "    \n",
      "    x: array of inputs  [x1, x2,...,xn]\n",
      "    w: array of weights [w0, w1, w2,...,wn]\n",
      "    f: activation function, with step as default\n",
      "    \n",
      "    return: signal=weighted sum w0 + x1 w1 + x2 w2 +...+ xn wn = x.w\n",
      "\n"
     ]
    }
   ],
   "source": [
    "help(neuron)"
   ]
  },
  {
   "cell_type": "markdown",
   "metadata": {},
   "source": [
    "Note that function **f** is an argument of **neuron**. It is by default set to **step**, thus does not have to be present in the argument list. A sample usage with $x_1=3$, $w_0=-b=-2$, $w_1=1$ is "
   ]
  },
  {
   "cell_type": "code",
   "execution_count": 11,
   "metadata": {},
   "outputs": [
    {
     "data": {
      "text/plain": [
       "1"
      ]
     },
     "execution_count": 11,
     "metadata": {},
     "output_type": "execute_result"
    }
   ],
   "source": [
    "neuron([3],[-2,1])"
   ]
  },
  {
   "cell_type": "markdown",
   "metadata": {},
   "source": [
    "As we can see, the neuron fired in this case, because $s=1*(-2)+3*1>0$. \n",
    "\n",
    "Next, we show how the neuron operates on an input sample $x_1$ taken in the range $[-2,2]$. We also change the bias parameter, to illustrate its role. It is clear that the bias works as the threshold: if the signal $x_1 w_1$ is above $b=-x_0$, then the neuron fires."
   ]
  },
  {
   "cell_type": "code",
   "execution_count": 12,
   "metadata": {
    "scrolled": true
   },
   "outputs": [
    {
     "data": {
      "image/png": "[encoded data removed]",
      "text/plain": [
       "<Figure size 276x276 with 1 Axes>"
      ]
     },
     "metadata": {},
     "output_type": "display_data"
    }
   ],
   "source": [
    "plt.figure(figsize=(2.3,2.3),dpi=120) \n",
    "\n",
    "s = np.linspace(-2, 2, 200)\n",
    "fs1 = [neuron([x1],[1,1]) for x1 in s]      # more function on one plot\n",
    "fs0 = [neuron([x1],[0,1]) for x1 in s]\n",
    "fsm12 = [neuron([x1],[-1/2,1]) for x1 in s]\n",
    "\n",
    "plt.xlabel('$x_1$',fontsize=11)\n",
    "plt.ylabel('response',fontsize=11)\n",
    "\n",
    "plt.title(\"Change of bias\",fontsize=11)\n",
    "\n",
    "plt.plot(s, fs1, label='b=-1')\n",
    "plt.plot(s, fs0, label='b=0')\n",
    "plt.plot(s, fsm12, label='b=1/2')\n",
    "plt.legend()     # legend\n",
    "plt.show()"
   ]
  },
  {
   "cell_type": "markdown",
   "metadata": {},
   "source": [
    "When the sign of the weight $w_1$ is negative, we get a **reverse** behavior, where the neuron fires when $x_1 |w_1| < w_0$: "
   ]
  },
  {
   "cell_type": "code",
   "execution_count": 13,
   "metadata": {
    "scrolled": true,
    "tags": [
     "remove-input"
    ]
   },
   "outputs": [
    {
     "data": {
      "image/png": "[encoded data removed]",
      "text/plain": [
       "<Figure size 276x276 with 1 Axes>"
      ]
     },
     "metadata": {},
     "output_type": "display_data"
    }
   ],
   "source": [
    "plt.figure(figsize=(2.3,2.3),dpi=120) \n",
    "\n",
    "s = np.linspace(-2, 2, 200)\n",
    "gsm = [neuron([x1],[-1,-1]) for x1 in s]\n",
    "\n",
    "plt.xlabel('$x_1$',fontsize=11)\n",
    "plt.ylabel('response',fontsize=11)\n",
    "\n",
    "plt.plot(s, gsm,label='$w_1=-1$')\n",
    "plt.legend()\n",
    "plt.show()"
   ]
  },
  {
   "cell_type": "markdown",
   "metadata": {},
   "source": [
    "```{note} \n",
    "From now on, for the brevity of the presentation, we hide some cells of the code with repeated structure. The reader may find the complete code in the corresponding Jupyter notebooks.\n",
    "```"
   ]
  },
  {
   "cell_type": "markdown",
   "metadata": {},
   "source": [
    "Admittedly, in the last example, one departs from the biological pattern, as negative weights are not possible to realize in a biological neuron. However, this freedom enriches the mathematical model, which clearly can be built without biological constraints."
   ]
  },
  {
   "cell_type": "markdown",
   "metadata": {},
   "source": [
    "(bool-sec)=\n",
    "## Boolean functions"
   ]
  },
  {
   "cell_type": "markdown",
   "metadata": {},
   "source": [
    "Having constructed the MCP neuron in Python, the question is: *What is the simplest (but still non-trivial) application we can use it for?* We show here that one can easily construct [boolean functions](https://en.wikipedia.org/wiki/Boolean_function), or logical networks, with the help of networks of MCP neurons. Boolean functions, by definition, have arguments and values in the set $\\{ 0,1 \\}$, or {True, False}.\n",
    "\n",
    "To warm up, let us start with some guesswork, where we take the neuron with the weights $w=[w_0,w_1,w_2]=[-1,0.6,0.6]$ (why not). We shall here denote $x_1=p$, $x_2=q$, in accordance with the traditional notation for logical variables, where $p,q \\in \\{0,1\\}$. "
   ]
  },
  {
   "cell_type": "code",
   "execution_count": 14,
   "metadata": {},
   "outputs": [
    {
     "name": "stdout",
     "output_type": "stream",
     "text": [
      "p q n(p,q)\n",
      "\n",
      "0 0  0\n",
      "0 1  0\n",
      "1 0  0\n",
      "1 1  1\n"
     ]
    }
   ],
   "source": [
    "print(\"p q n(p,q)\") # print the header\n",
    "print()             # print space\n",
    "\n",
    "for p in [0,1]:       # loop over p\n",
    "    for q in [0,1]:   # loop over q\n",
    "        print(p,q,\"\",neuron([p,q],[-1,.6,.6])) # print all cases"
   ]
  },
  {
   "cell_type": "markdown",
   "metadata": {},
   "source": [
    "We immediately recognize in the above output the logical table for the conjunction, $n(p,q)=p \\land q$, or the logical **AND** operation. It is clear how the neuron works. The condition for the firing $n(p,q)=1$ is $-1+p*0.6+q*0.6 \\ge 0$, and it is satisfied if and only if $p=q=1$, which is the definition of the logical conjunction. Of course, we could have used here 0.7 instead of 0.6, or in general $w_1$ and $w_2$ such that $w_1<1, w_2<1, w_1+w_2 \\ge 1$. In the electronics terminology, we can call the present neuron the **AND gate**.\n",
    "\n",
    "We can thus define the short-hand "
   ]
  },
  {
   "cell_type": "code",
   "execution_count": 15,
   "metadata": {},
   "outputs": [],
   "source": [
    "def neurAND(p,q): return neuron([p,q],[-1,.6,.6])"
   ]
  },
  {
   "cell_type": "markdown",
   "metadata": {},
   "source": [
    "Quite similarly, we may define other boolean functions (or logical gates) of two logical variables. In particular, the NAND gate (the negation of conjunction) and the OR gate (alternative) are realized with the following MCP neurons:"
   ]
  },
  {
   "cell_type": "code",
   "execution_count": 16,
   "metadata": {},
   "outputs": [],
   "source": [
    "def neurNAND(p,q): return neuron([p,q],[1,-0.6,-0.6])\n",
    "def neurOR(p,q):   return neuron([p,q],[-1,1.2,1.2])"
   ]
  },
  {
   "cell_type": "markdown",
   "metadata": {},
   "source": [
    "They correspond to the logical tables "
   ]
  },
  {
   "cell_type": "code",
   "execution_count": 17,
   "metadata": {},
   "outputs": [
    {
     "name": "stdout",
     "output_type": "stream",
     "text": [
      "p q  NAND OR\n",
      "\n",
      "0 0   1   0\n",
      "0 1   1   1\n",
      "1 0   1   1\n",
      "1 1   0   1\n"
     ]
    }
   ],
   "source": [
    "print(\"p q  NAND OR\") # print the header\n",
    "print()\n",
    "\n",
    "for p in [0,1]: \n",
    "    for q in [0,1]: \n",
    "        print(p,q,\" \",neurNAND(p,q),\" \",neurOR(p,q))"
   ]
  },
  {
   "cell_type": "markdown",
   "metadata": {},
   "source": [
    "### Problem with XOR"
   ]
  },
  {
   "cell_type": "markdown",
   "metadata": {},
   "source": [
    "The XOR gate, or the **exclusive alternative**, is defined with the following logical table:\n",
    "\n",
    "$$\n",
    "\\begin{array}{ccc}\n",
    "p & q & p \\oplus q \\\\\n",
    "0 & 0 & 0 \\\\\n",
    "0 & 1 & 1 \\\\\n",
    "1 & 0 & 1 \\\\\n",
    "1 & 1 & 0\n",
    "\\end{array}\n",
    "$$\n",
    "\n",
    "This is one of the possible boolean functions of two arguments (in total, we have 16 different functions of this kind, why?). We could now try very hard to adjust the weights in our neuron to make it behave as the XOR gate, but we are doomed to fail. Here is the reason:"
   ]
  },
  {
   "cell_type": "markdown",
   "metadata": {},
   "source": [
    "From the first row of the above table, it follows that for the input 0, 0 (first row) the neuron should not fire. Hence\n",
    "\n",
    "$w_0  + 0* w_1 + 0*w_2  < 0$, or $-w_0>0$. \n",
    "\n",
    "For the cases of rows 2 and 3 the neuron must fire, therefore\n",
    "\n",
    "$w_0+w_2 \\ge 0$ and $w_0+w_1 \\ge 0$.\n",
    "\n",
    "Adding side-by-side the three obtained inequalities we get $w_0+w_1+w_2 > 0$. However, the fourth row yields\n",
    "$w_0+w_1+w_2<0$ (no firing), so we encounter a contradiction. Therefore no choice of $w_0, w_1, w_2$ exists to do the job! "
   ]
  },
  {
   "cell_type": "markdown",
   "metadata": {},
   "source": [
    "```{important}\n",
    "A single MCP neuron cannot represent the **XOR** gate.\n",
    "```"
   ]
  },
  {
   "cell_type": "markdown",
   "metadata": {},
   "source": [
    "### XOR from composition of AND, NAND and OR"
   ]
  },
  {
   "cell_type": "markdown",
   "metadata": {},
   "source": [
    "One can solve the XOR problem by composing three MCP neurons, for instance "
   ]
  },
  {
   "cell_type": "code",
   "execution_count": 18,
   "metadata": {},
   "outputs": [],
   "source": [
    "def neurXOR(p,q): return neurAND(neurNAND(p,q),neurOR(p,q))"
   ]
  },
  {
   "cell_type": "code",
   "execution_count": 19,
   "metadata": {},
   "outputs": [
    {
     "name": "stdout",
     "output_type": "stream",
     "text": [
      "p q XOR\n",
      "\n",
      "0 0  0\n",
      "0 1  1\n",
      "1 0  1\n",
      "1 1  0\n"
     ]
    }
   ],
   "source": [
    "print(\"p q XOR\") \n",
    "print()\n",
    "\n",
    "for p in [0,1]: \n",
    "    for q in [0,1]: \n",
    "        print(p,q,\"\",neurXOR(p,q))"
   ]
  },
  {
   "cell_type": "markdown",
   "metadata": {},
   "source": [
    "The above construction corresponds to the simple network of {numref}`xor-fig`.\n"
   ]
  },
  {
   "cell_type": "markdown",
   "metadata": {},
   "source": [
    ":::{figure-md} xor-fig\n",
    "<img src=\"images/xor.png\" width=\"260px\">\n",
    "\n",
    "The XOR gate composed of the NAND, OR, and AND MCP neurons.\n",
    ":::"
   ]
  },
  {
   "cell_type": "markdown",
   "metadata": {},
   "source": [
    "Note that we are dealing here, for the first time, with a network having an intermediate layer, consisting of the NAND and OR neurons. This layer is indispensable to construct the XOR gate."
   ]
  },
  {
   "cell_type": "markdown",
   "metadata": {},
   "source": [
    "### XOR composed from NAND"
   ]
  },
  {
   "cell_type": "markdown",
   "metadata": {},
   "source": [
    "Within the theory of logical networks, one proves that any network (or any boolean function) can be composed of only NAND gates, or only the NOR gates. One says that the NAND (or NOR) gates are **complete**. In particular, the XOR gate can be constructed as \n",
    "\n",
    "[ p NAND ( p NAND q ) ] NAND [ q NAND ( p NAND q ) ],\n",
    "\n",
    "which we can write in Python as"
   ]
  },
  {
   "cell_type": "code",
   "execution_count": 20,
   "metadata": {},
   "outputs": [],
   "source": [
    "def nXOR(i,j): return neurNAND(neurNAND(i,neurNAND(i,j)),neurNAND(j,neurNAND(i,j)))"
   ]
  },
  {
   "cell_type": "code",
   "execution_count": 21,
   "metadata": {
    "scrolled": true
   },
   "outputs": [
    {
     "name": "stdout",
     "output_type": "stream",
     "text": [
      "p q XOR\n",
      "\n",
      "0 0  0\n",
      "0 1  1\n",
      "1 0  1\n",
      "1 1  0\n"
     ]
    }
   ],
   "source": [
    "print(\"p q XOR\") \n",
    "print()\n",
    "\n",
    "for i in [0,1]: \n",
    "    for j in [0,1]: \n",
    "        print(i,j,\"\",nXOR(i,j)) "
   ]
  },
  {
   "cell_type": "markdown",
   "metadata": {},
   "source": [
    "```{note}\n",
    "One proves that logical networks are complete in the [Church-Turing](https://en.wikipedia.org/wiki/Church–Turing_thesis) sense, i.e., (when sufficiently large) may carry over any possible calculation. This feature directly carries over to ANNs. Historically, that was the basic finding of the seminal MCP paper {cite}`McCulloch1943`.\n",
    "```"
   ]
  },
  {
   "cell_type": "markdown",
   "metadata": {},
   "source": [
    "```{admonition} Conclusion\n",
    ":class: Important\n",
    "\n",
    "ANNs (sufficiently large) can perform any calculation!\n",
    "```"
   ]
  },
  {
   "cell_type": "markdown",
   "metadata": {},
   "source": [
    "## Exercises"
   ]
  },
  {
   "cell_type": "markdown",
   "metadata": {},
   "source": [
    "```{admonition} $~$\n",
    ":class: warning\n",
    "\n",
    "\n",
    "Construct (all in Python)\n",
    "\n",
    "- a gate realizing conjunction of multiple boolean variables;\n",
    "- gates NOT, NOR;\n",
    "- gates OR, AND, NOT by [composing NAND gates](https://en.wikipedia.org/wiki/NAND_logic); \n",
    "- the [half adder and full adder](https://en.wikipedia.org/wiki/Adder_(electronics)),\n",
    "\n",
    "as networks of MCP neurons.\n",
    "```"
   ]
  }
 ],
 "metadata": {
  "kernelspec": {
   "display_name": "Python 3",
   "language": "python",
   "name": "python3"
  },
  "language_info": {
   "codemirror_mode": {
    "name": "ipython",
    "version": 3
   },
   "file_extension": ".py",
   "mimetype": "text/x-python",
   "name": "python",
   "nbconvert_exporter": "python",
   "pygments_lexer": "ipython3",
   "version": "3.8.11"
  }
 },
 "nbformat": 4,
 "nbformat_minor": 4
}
